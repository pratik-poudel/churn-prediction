{
 "cells": [
  {
   "cell_type": "code",
   "execution_count": 3,
   "metadata": {},
   "outputs": [],
   "source": [
    "import pandas as pd\n",
    "import numpy as np\n",
    "import seaborn as sns\n",
    "import matplotlib.pyplot as plt\n",
    "import plotly.express as px\n",
    "import plotly.graph_objects as go\n",
    "pd.options.display.max_columns = 50\n",
    "from plotly.offline import iplot\n",
    "from plotly.subplots import make_subplots\n",
    "\n",
    "from scipy.stats import chi2_contingency"
   ]
  },
  {
   "cell_type": "code",
   "execution_count": 4,
   "metadata": {},
   "outputs": [],
   "source": [
    "def load_data(path):\n",
    "    df = pd.read_csv(path)\n",
    "    df['TotalCharges'] = pd.to_numeric(df['TotalCharges'], errors='coerce')\n",
    "    df.columns = ['customerID', 'Gender', 'SeniorCitizen', 'Partner', 'Dependents',\n",
    "       'Tenure', 'PhoneService', 'MultipleLines', 'InternetService',\n",
    "       'OnlineSecurity', 'OnlineBackup', 'DeviceProtection', 'TechSupport',\n",
    "       'StreamingTV', 'StreamingMovies', 'Contract', 'PaperlessBilling',\n",
    "       'PaymentMethod', 'MonthlyCharges', 'TotalCharges', 'Churn']\n",
    "    df = df.drop(columns = ['customerID'])\n",
    "    cat_cols = df.select_dtypes('object').columns.to_list()\n",
    "    for col in cat_cols:\n",
    "        df[col] = df[col].str.title()\n",
    "    df = df.dropna()\n",
    "    return df"
   ]
  },
  {
   "cell_type": "code",
   "execution_count": 5,
   "metadata": {},
   "outputs": [],
   "source": [
    "df = load_data('data/WA_Fn-UseC_-Telco-Customer-Churn.csv')"
   ]
  },
  {
   "cell_type": "code",
   "execution_count": 75,
   "metadata": {},
   "outputs": [],
   "source": [
    "df_cat = 'InternetService'\n",
    "df_value = 'MonthlyCharges'\n",
    "limit = 15\n",
    "\n",
    "\n",
    "df[\"Churn\"] = df['Churn'].replace({\"Yes\":1, \"No\":0})\n",
    "tmp_churn = df[df['Churn'] == 1].groupby(df_cat)[df_value].sum().nlargest(limit).to_frame().reset_index()\n",
    "tmp_no_churn = df[df['Churn'] == 0].groupby(df_cat)[df_value].sum().nlargest(limit).to_frame().reset_index()"
   ]
  },
  {
   "cell_type": "code",
   "execution_count": null,
   "metadata": {},
   "outputs": [],
   "source": [
    "              domain= {'x': [.52, 1]})\n",
    "\n",
    "    trace2 = go.Pie(labels=tmp_no_churn[df_cat], \n",
    "                        values=tmp_no_churn[df_value], name= \"No-Churn\", hole= .5, \n",
    "                        hoverinfo=\"label+percent+name+value\", showlegend=False,\n",
    "                        domain= {'x': [0, .48]})\n"
   ]
  },
  {
   "cell_type": "code",
   "execution_count": 102,
   "metadata": {},
   "outputs": [
    {
     "data": {
      "text/html": [
       "<div>\n",
       "<style scoped>\n",
       "    .dataframe tbody tr th:only-of-type {\n",
       "        vertical-align: middle;\n",
       "    }\n",
       "\n",
       "    .dataframe tbody tr th {\n",
       "        vertical-align: top;\n",
       "    }\n",
       "\n",
       "    .dataframe thead th {\n",
       "        text-align: right;\n",
       "    }\n",
       "</style>\n",
       "<table border=\"1\" class=\"dataframe\">\n",
       "  <thead>\n",
       "    <tr style=\"text-align: right;\">\n",
       "      <th></th>\n",
       "      <th>InternetService</th>\n",
       "      <th>MonthlyCharges</th>\n",
       "    </tr>\n",
       "  </thead>\n",
       "  <tbody>\n",
       "    <tr>\n",
       "      <th>0</th>\n",
       "      <td>Fiber Optic</td>\n",
       "      <td>114300.05</td>\n",
       "    </tr>\n",
       "    <tr>\n",
       "      <th>1</th>\n",
       "      <td>Dsl</td>\n",
       "      <td>22529.20</td>\n",
       "    </tr>\n",
       "    <tr>\n",
       "      <th>2</th>\n",
       "      <td>No</td>\n",
       "      <td>2301.60</td>\n",
       "    </tr>\n",
       "  </tbody>\n",
       "</table>\n",
       "</div>"
      ],
      "text/plain": [
       "  InternetService  MonthlyCharges\n",
       "0     Fiber Optic       114300.05\n",
       "1             Dsl        22529.20\n",
       "2              No         2301.60"
      ]
     },
     "execution_count": 102,
     "metadata": {},
     "output_type": "execute_result"
    }
   ],
   "source": [
    "tmp_churn"
   ]
  },
  {
   "cell_type": "code",
   "execution_count": null,
   "metadata": {},
   "outputs": [],
   "source": [
    "(114300)"
   ]
  },
  {
   "cell_type": "code",
   "execution_count": null,
   "metadata": {},
   "outputs": [],
   "source": []
  },
  {
   "cell_type": "code",
   "execution_count": 101,
   "metadata": {},
   "outputs": [
    {
     "data": {
      "application/vnd.plotly.v1+json": {
       "config": {
        "linkText": "Export to plot.ly",
        "plotlyServerURL": "https://plot.ly",
        "showLink": false
       },
       "data": [
        {
         "domain": {
          "x": [
           0,
           0.5
          ]
         },
         "hole": 0.5,
         "labels": [
          "Fiber Optic",
          "Dsl",
          "No"
         ],
         "name": "CHurn",
         "type": "pie",
         "values": [
          114300.05,
          22529.2,
          2301.6
         ]
        },
        {
         "domain": {
          "x": [
           0.5,
           1
          ]
         },
         "hole": 0.5,
         "labels": [
          "Fiber Optic",
          "Dsl",
          "No"
         ],
         "name": "No CHurn",
         "type": "pie",
         "values": [
          168984.35,
          117811.45,
          29734.35
         ]
        }
       ],
       "layout": {
        "annotations": [
         {
          "font": {
           "size": 20
          },
          "showarrow": false,
          "text": "Churn",
          "x": 0.2,
          "y": 0.5
         },
         {
          "font": {
           "size": 20
          },
          "showarrow": false,
          "text": "No Churn",
          "x": 0.8,
          "y": 0.5
         }
        ],
        "font": {
         "size": 15
        },
        "height": 450,
        "template": {
         "data": {
          "bar": [
           {
            "error_x": {
             "color": "#2a3f5f"
            },
            "error_y": {
             "color": "#2a3f5f"
            },
            "marker": {
             "line": {
              "color": "#E5ECF6",
              "width": 0.5
             },
             "pattern": {
              "fillmode": "overlay",
              "size": 10,
              "solidity": 0.2
             }
            },
            "type": "bar"
           }
          ],
          "barpolar": [
           {
            "marker": {
             "line": {
              "color": "#E5ECF6",
              "width": 0.5
             },
             "pattern": {
              "fillmode": "overlay",
              "size": 10,
              "solidity": 0.2
             }
            },
            "type": "barpolar"
           }
          ],
          "carpet": [
           {
            "aaxis": {
             "endlinecolor": "#2a3f5f",
             "gridcolor": "white",
             "linecolor": "white",
             "minorgridcolor": "white",
             "startlinecolor": "#2a3f5f"
            },
            "baxis": {
             "endlinecolor": "#2a3f5f",
             "gridcolor": "white",
             "linecolor": "white",
             "minorgridcolor": "white",
             "startlinecolor": "#2a3f5f"
            },
            "type": "carpet"
           }
          ],
          "choropleth": [
           {
            "colorbar": {
             "outlinewidth": 0,
             "ticks": ""
            },
            "type": "choropleth"
           }
          ],
          "contour": [
           {
            "colorbar": {
             "outlinewidth": 0,
             "ticks": ""
            },
            "colorscale": [
             [
              0,
              "#0d0887"
             ],
             [
              0.1111111111111111,
              "#46039f"
             ],
             [
              0.2222222222222222,
              "#7201a8"
             ],
             [
              0.3333333333333333,
              "#9c179e"
             ],
             [
              0.4444444444444444,
              "#bd3786"
             ],
             [
              0.5555555555555556,
              "#d8576b"
             ],
             [
              0.6666666666666666,
              "#ed7953"
             ],
             [
              0.7777777777777778,
              "#fb9f3a"
             ],
             [
              0.8888888888888888,
              "#fdca26"
             ],
             [
              1,
              "#f0f921"
             ]
            ],
            "type": "contour"
           }
          ],
          "contourcarpet": [
           {
            "colorbar": {
             "outlinewidth": 0,
             "ticks": ""
            },
            "type": "contourcarpet"
           }
          ],
          "heatmap": [
           {
            "colorbar": {
             "outlinewidth": 0,
             "ticks": ""
            },
            "colorscale": [
             [
              0,
              "#0d0887"
             ],
             [
              0.1111111111111111,
              "#46039f"
             ],
             [
              0.2222222222222222,
              "#7201a8"
             ],
             [
              0.3333333333333333,
              "#9c179e"
             ],
             [
              0.4444444444444444,
              "#bd3786"
             ],
             [
              0.5555555555555556,
              "#d8576b"
             ],
             [
              0.6666666666666666,
              "#ed7953"
             ],
             [
              0.7777777777777778,
              "#fb9f3a"
             ],
             [
              0.8888888888888888,
              "#fdca26"
             ],
             [
              1,
              "#f0f921"
             ]
            ],
            "type": "heatmap"
           }
          ],
          "heatmapgl": [
           {
            "colorbar": {
             "outlinewidth": 0,
             "ticks": ""
            },
            "colorscale": [
             [
              0,
              "#0d0887"
             ],
             [
              0.1111111111111111,
              "#46039f"
             ],
             [
              0.2222222222222222,
              "#7201a8"
             ],
             [
              0.3333333333333333,
              "#9c179e"
             ],
             [
              0.4444444444444444,
              "#bd3786"
             ],
             [
              0.5555555555555556,
              "#d8576b"
             ],
             [
              0.6666666666666666,
              "#ed7953"
             ],
             [
              0.7777777777777778,
              "#fb9f3a"
             ],
             [
              0.8888888888888888,
              "#fdca26"
             ],
             [
              1,
              "#f0f921"
             ]
            ],
            "type": "heatmapgl"
           }
          ],
          "histogram": [
           {
            "marker": {
             "pattern": {
              "fillmode": "overlay",
              "size": 10,
              "solidity": 0.2
             }
            },
            "type": "histogram"
           }
          ],
          "histogram2d": [
           {
            "colorbar": {
             "outlinewidth": 0,
             "ticks": ""
            },
            "colorscale": [
             [
              0,
              "#0d0887"
             ],
             [
              0.1111111111111111,
              "#46039f"
             ],
             [
              0.2222222222222222,
              "#7201a8"
             ],
             [
              0.3333333333333333,
              "#9c179e"
             ],
             [
              0.4444444444444444,
              "#bd3786"
             ],
             [
              0.5555555555555556,
              "#d8576b"
             ],
             [
              0.6666666666666666,
              "#ed7953"
             ],
             [
              0.7777777777777778,
              "#fb9f3a"
             ],
             [
              0.8888888888888888,
              "#fdca26"
             ],
             [
              1,
              "#f0f921"
             ]
            ],
            "type": "histogram2d"
           }
          ],
          "histogram2dcontour": [
           {
            "colorbar": {
             "outlinewidth": 0,
             "ticks": ""
            },
            "colorscale": [
             [
              0,
              "#0d0887"
             ],
             [
              0.1111111111111111,
              "#46039f"
             ],
             [
              0.2222222222222222,
              "#7201a8"
             ],
             [
              0.3333333333333333,
              "#9c179e"
             ],
             [
              0.4444444444444444,
              "#bd3786"
             ],
             [
              0.5555555555555556,
              "#d8576b"
             ],
             [
              0.6666666666666666,
              "#ed7953"
             ],
             [
              0.7777777777777778,
              "#fb9f3a"
             ],
             [
              0.8888888888888888,
              "#fdca26"
             ],
             [
              1,
              "#f0f921"
             ]
            ],
            "type": "histogram2dcontour"
           }
          ],
          "mesh3d": [
           {
            "colorbar": {
             "outlinewidth": 0,
             "ticks": ""
            },
            "type": "mesh3d"
           }
          ],
          "parcoords": [
           {
            "line": {
             "colorbar": {
              "outlinewidth": 0,
              "ticks": ""
             }
            },
            "type": "parcoords"
           }
          ],
          "pie": [
           {
            "automargin": true,
            "type": "pie"
           }
          ],
          "scatter": [
           {
            "fillpattern": {
             "fillmode": "overlay",
             "size": 10,
             "solidity": 0.2
            },
            "type": "scatter"
           }
          ],
          "scatter3d": [
           {
            "line": {
             "colorbar": {
              "outlinewidth": 0,
              "ticks": ""
             }
            },
            "marker": {
             "colorbar": {
              "outlinewidth": 0,
              "ticks": ""
             }
            },
            "type": "scatter3d"
           }
          ],
          "scattercarpet": [
           {
            "marker": {
             "colorbar": {
              "outlinewidth": 0,
              "ticks": ""
             }
            },
            "type": "scattercarpet"
           }
          ],
          "scattergeo": [
           {
            "marker": {
             "colorbar": {
              "outlinewidth": 0,
              "ticks": ""
             }
            },
            "type": "scattergeo"
           }
          ],
          "scattergl": [
           {
            "marker": {
             "colorbar": {
              "outlinewidth": 0,
              "ticks": ""
             }
            },
            "type": "scattergl"
           }
          ],
          "scattermapbox": [
           {
            "marker": {
             "colorbar": {
              "outlinewidth": 0,
              "ticks": ""
             }
            },
            "type": "scattermapbox"
           }
          ],
          "scatterpolar": [
           {
            "marker": {
             "colorbar": {
              "outlinewidth": 0,
              "ticks": ""
             }
            },
            "type": "scatterpolar"
           }
          ],
          "scatterpolargl": [
           {
            "marker": {
             "colorbar": {
              "outlinewidth": 0,
              "ticks": ""
             }
            },
            "type": "scatterpolargl"
           }
          ],
          "scatterternary": [
           {
            "marker": {
             "colorbar": {
              "outlinewidth": 0,
              "ticks": ""
             }
            },
            "type": "scatterternary"
           }
          ],
          "surface": [
           {
            "colorbar": {
             "outlinewidth": 0,
             "ticks": ""
            },
            "colorscale": [
             [
              0,
              "#0d0887"
             ],
             [
              0.1111111111111111,
              "#46039f"
             ],
             [
              0.2222222222222222,
              "#7201a8"
             ],
             [
              0.3333333333333333,
              "#9c179e"
             ],
             [
              0.4444444444444444,
              "#bd3786"
             ],
             [
              0.5555555555555556,
              "#d8576b"
             ],
             [
              0.6666666666666666,
              "#ed7953"
             ],
             [
              0.7777777777777778,
              "#fb9f3a"
             ],
             [
              0.8888888888888888,
              "#fdca26"
             ],
             [
              1,
              "#f0f921"
             ]
            ],
            "type": "surface"
           }
          ],
          "table": [
           {
            "cells": {
             "fill": {
              "color": "#EBF0F8"
             },
             "line": {
              "color": "white"
             }
            },
            "header": {
             "fill": {
              "color": "#C8D4E3"
             },
             "line": {
              "color": "white"
             }
            },
            "type": "table"
           }
          ]
         },
         "layout": {
          "annotationdefaults": {
           "arrowcolor": "#2a3f5f",
           "arrowhead": 0,
           "arrowwidth": 1
          },
          "autotypenumbers": "strict",
          "coloraxis": {
           "colorbar": {
            "outlinewidth": 0,
            "ticks": ""
           }
          },
          "colorscale": {
           "diverging": [
            [
             0,
             "#8e0152"
            ],
            [
             0.1,
             "#c51b7d"
            ],
            [
             0.2,
             "#de77ae"
            ],
            [
             0.3,
             "#f1b6da"
            ],
            [
             0.4,
             "#fde0ef"
            ],
            [
             0.5,
             "#f7f7f7"
            ],
            [
             0.6,
             "#e6f5d0"
            ],
            [
             0.7,
             "#b8e186"
            ],
            [
             0.8,
             "#7fbc41"
            ],
            [
             0.9,
             "#4d9221"
            ],
            [
             1,
             "#276419"
            ]
           ],
           "sequential": [
            [
             0,
             "#0d0887"
            ],
            [
             0.1111111111111111,
             "#46039f"
            ],
            [
             0.2222222222222222,
             "#7201a8"
            ],
            [
             0.3333333333333333,
             "#9c179e"
            ],
            [
             0.4444444444444444,
             "#bd3786"
            ],
            [
             0.5555555555555556,
             "#d8576b"
            ],
            [
             0.6666666666666666,
             "#ed7953"
            ],
            [
             0.7777777777777778,
             "#fb9f3a"
            ],
            [
             0.8888888888888888,
             "#fdca26"
            ],
            [
             1,
             "#f0f921"
            ]
           ],
           "sequentialminus": [
            [
             0,
             "#0d0887"
            ],
            [
             0.1111111111111111,
             "#46039f"
            ],
            [
             0.2222222222222222,
             "#7201a8"
            ],
            [
             0.3333333333333333,
             "#9c179e"
            ],
            [
             0.4444444444444444,
             "#bd3786"
            ],
            [
             0.5555555555555556,
             "#d8576b"
            ],
            [
             0.6666666666666666,
             "#ed7953"
            ],
            [
             0.7777777777777778,
             "#fb9f3a"
            ],
            [
             0.8888888888888888,
             "#fdca26"
            ],
            [
             1,
             "#f0f921"
            ]
           ]
          },
          "colorway": [
           "#636efa",
           "#EF553B",
           "#00cc96",
           "#ab63fa",
           "#FFA15A",
           "#19d3f3",
           "#FF6692",
           "#B6E880",
           "#FF97FF",
           "#FECB52"
          ],
          "font": {
           "color": "#2a3f5f"
          },
          "geo": {
           "bgcolor": "white",
           "lakecolor": "white",
           "landcolor": "#E5ECF6",
           "showlakes": true,
           "showland": true,
           "subunitcolor": "white"
          },
          "hoverlabel": {
           "align": "left"
          },
          "hovermode": "closest",
          "mapbox": {
           "style": "light"
          },
          "paper_bgcolor": "white",
          "plot_bgcolor": "#E5ECF6",
          "polar": {
           "angularaxis": {
            "gridcolor": "white",
            "linecolor": "white",
            "ticks": ""
           },
           "bgcolor": "#E5ECF6",
           "radialaxis": {
            "gridcolor": "white",
            "linecolor": "white",
            "ticks": ""
           }
          },
          "scene": {
           "xaxis": {
            "backgroundcolor": "#E5ECF6",
            "gridcolor": "white",
            "gridwidth": 2,
            "linecolor": "white",
            "showbackground": true,
            "ticks": "",
            "zerolinecolor": "white"
           },
           "yaxis": {
            "backgroundcolor": "#E5ECF6",
            "gridcolor": "white",
            "gridwidth": 2,
            "linecolor": "white",
            "showbackground": true,
            "ticks": "",
            "zerolinecolor": "white"
           },
           "zaxis": {
            "backgroundcolor": "#E5ECF6",
            "gridcolor": "white",
            "gridwidth": 2,
            "linecolor": "white",
            "showbackground": true,
            "ticks": "",
            "zerolinecolor": "white"
           }
          },
          "shapedefaults": {
           "line": {
            "color": "#2a3f5f"
           }
          },
          "ternary": {
           "aaxis": {
            "gridcolor": "white",
            "linecolor": "white",
            "ticks": ""
           },
           "baxis": {
            "gridcolor": "white",
            "linecolor": "white",
            "ticks": ""
           },
           "bgcolor": "#E5ECF6",
           "caxis": {
            "gridcolor": "white",
            "linecolor": "white",
            "ticks": ""
           }
          },
          "title": {
           "x": 0.05
          },
          "xaxis": {
           "automargin": true,
           "gridcolor": "white",
           "linecolor": "white",
           "ticks": "",
           "title": {
            "standoff": 15
           },
           "zerolinecolor": "white",
           "zerolinewidth": 2
          },
          "yaxis": {
           "automargin": true,
           "gridcolor": "white",
           "linecolor": "white",
           "ticks": "",
           "title": {
            "standoff": 15
           },
           "zerolinecolor": "white",
           "zerolinewidth": 2
          }
         }
        },
        "title": {
         "text": "some"
        },
        "width": 1200
       }
      }
     },
     "metadata": {},
     "output_type": "display_data"
    }
   ],
   "source": [
    "\n",
    "p1= go.Pie(labels = tmp_churn[df_cat], values=tmp_churn[df_value], name='CHurn', hole=0.5, domain= {'x': [0, .5]})\n",
    "p2 = go.Pie(labels = tmp_no_churn[df_cat], values=tmp_no_churn[df_value], name='No CHurn', hole=0.5,domain= {'x': [.5, 1]} )\n",
    "layout = dict(title= \"some\", height=450,width=1200, font=dict(size=15),\n",
    "                  annotations = [\n",
    "                    dict(\n",
    "                          x=.2, y=.5,\n",
    "                          text='Churn', \n",
    "                          showarrow=False,\n",
    "                          font=dict(size=20)\n",
    "                      ),\n",
    "\n",
    "                      dict(\n",
    "                          x=.8, y=.5,\n",
    "                          text='No Churn', \n",
    "                          showarrow=False,\n",
    "                          font=dict(size=20)\n",
    "                      ),\n",
    "                      \n",
    "        ])\n",
    "\n",
    "fig = dict(data=[p1, \n",
    "p2\n",
    "], layout=layout)\n",
    "iplot(fig)"
   ]
  },
  {
   "cell_type": "code",
   "execution_count": 96,
   "metadata": {},
   "outputs": [
    {
     "data": {
      "application/vnd.plotly.v1+json": {
       "config": {
        "linkText": "Export to plot.ly",
        "plotlyServerURL": "https://plot.ly",
        "showLink": false
       },
       "data": [
        {
         "domain": {
          "x": [
           1,
           0.1
          ]
         },
         "hole": 0.5,
         "labels": [
          "Fiber Optic",
          "Dsl",
          "No"
         ],
         "name": "CHurn",
         "type": "pie",
         "values": [
          114300.05,
          22529.2,
          2301.6
         ]
        }
       ],
       "layout": {
        "annotations": [
         {
          "font": {
           "size": 20
          },
          "showarrow": false,
          "text": "Churn",
          "x": 0.2,
          "y": 0.5
         },
         {
          "font": {
           "size": 20
          },
          "showarrow": false,
          "text": "No Churn",
          "x": 0.8,
          "y": 0.5
         }
        ],
        "font": {
         "size": 15
        },
        "height": 450,
        "template": {
         "data": {
          "bar": [
           {
            "error_x": {
             "color": "#2a3f5f"
            },
            "error_y": {
             "color": "#2a3f5f"
            },
            "marker": {
             "line": {
              "color": "#E5ECF6",
              "width": 0.5
             },
             "pattern": {
              "fillmode": "overlay",
              "size": 10,
              "solidity": 0.2
             }
            },
            "type": "bar"
           }
          ],
          "barpolar": [
           {
            "marker": {
             "line": {
              "color": "#E5ECF6",
              "width": 0.5
             },
             "pattern": {
              "fillmode": "overlay",
              "size": 10,
              "solidity": 0.2
             }
            },
            "type": "barpolar"
           }
          ],
          "carpet": [
           {
            "aaxis": {
             "endlinecolor": "#2a3f5f",
             "gridcolor": "white",
             "linecolor": "white",
             "minorgridcolor": "white",
             "startlinecolor": "#2a3f5f"
            },
            "baxis": {
             "endlinecolor": "#2a3f5f",
             "gridcolor": "white",
             "linecolor": "white",
             "minorgridcolor": "white",
             "startlinecolor": "#2a3f5f"
            },
            "type": "carpet"
           }
          ],
          "choropleth": [
           {
            "colorbar": {
             "outlinewidth": 0,
             "ticks": ""
            },
            "type": "choropleth"
           }
          ],
          "contour": [
           {
            "colorbar": {
             "outlinewidth": 0,
             "ticks": ""
            },
            "colorscale": [
             [
              0,
              "#0d0887"
             ],
             [
              0.1111111111111111,
              "#46039f"
             ],
             [
              0.2222222222222222,
              "#7201a8"
             ],
             [
              0.3333333333333333,
              "#9c179e"
             ],
             [
              0.4444444444444444,
              "#bd3786"
             ],
             [
              0.5555555555555556,
              "#d8576b"
             ],
             [
              0.6666666666666666,
              "#ed7953"
             ],
             [
              0.7777777777777778,
              "#fb9f3a"
             ],
             [
              0.8888888888888888,
              "#fdca26"
             ],
             [
              1,
              "#f0f921"
             ]
            ],
            "type": "contour"
           }
          ],
          "contourcarpet": [
           {
            "colorbar": {
             "outlinewidth": 0,
             "ticks": ""
            },
            "type": "contourcarpet"
           }
          ],
          "heatmap": [
           {
            "colorbar": {
             "outlinewidth": 0,
             "ticks": ""
            },
            "colorscale": [
             [
              0,
              "#0d0887"
             ],
             [
              0.1111111111111111,
              "#46039f"
             ],
             [
              0.2222222222222222,
              "#7201a8"
             ],
             [
              0.3333333333333333,
              "#9c179e"
             ],
             [
              0.4444444444444444,
              "#bd3786"
             ],
             [
              0.5555555555555556,
              "#d8576b"
             ],
             [
              0.6666666666666666,
              "#ed7953"
             ],
             [
              0.7777777777777778,
              "#fb9f3a"
             ],
             [
              0.8888888888888888,
              "#fdca26"
             ],
             [
              1,
              "#f0f921"
             ]
            ],
            "type": "heatmap"
           }
          ],
          "heatmapgl": [
           {
            "colorbar": {
             "outlinewidth": 0,
             "ticks": ""
            },
            "colorscale": [
             [
              0,
              "#0d0887"
             ],
             [
              0.1111111111111111,
              "#46039f"
             ],
             [
              0.2222222222222222,
              "#7201a8"
             ],
             [
              0.3333333333333333,
              "#9c179e"
             ],
             [
              0.4444444444444444,
              "#bd3786"
             ],
             [
              0.5555555555555556,
              "#d8576b"
             ],
             [
              0.6666666666666666,
              "#ed7953"
             ],
             [
              0.7777777777777778,
              "#fb9f3a"
             ],
             [
              0.8888888888888888,
              "#fdca26"
             ],
             [
              1,
              "#f0f921"
             ]
            ],
            "type": "heatmapgl"
           }
          ],
          "histogram": [
           {
            "marker": {
             "pattern": {
              "fillmode": "overlay",
              "size": 10,
              "solidity": 0.2
             }
            },
            "type": "histogram"
           }
          ],
          "histogram2d": [
           {
            "colorbar": {
             "outlinewidth": 0,
             "ticks": ""
            },
            "colorscale": [
             [
              0,
              "#0d0887"
             ],
             [
              0.1111111111111111,
              "#46039f"
             ],
             [
              0.2222222222222222,
              "#7201a8"
             ],
             [
              0.3333333333333333,
              "#9c179e"
             ],
             [
              0.4444444444444444,
              "#bd3786"
             ],
             [
              0.5555555555555556,
              "#d8576b"
             ],
             [
              0.6666666666666666,
              "#ed7953"
             ],
             [
              0.7777777777777778,
              "#fb9f3a"
             ],
             [
              0.8888888888888888,
              "#fdca26"
             ],
             [
              1,
              "#f0f921"
             ]
            ],
            "type": "histogram2d"
           }
          ],
          "histogram2dcontour": [
           {
            "colorbar": {
             "outlinewidth": 0,
             "ticks": ""
            },
            "colorscale": [
             [
              0,
              "#0d0887"
             ],
             [
              0.1111111111111111,
              "#46039f"
             ],
             [
              0.2222222222222222,
              "#7201a8"
             ],
             [
              0.3333333333333333,
              "#9c179e"
             ],
             [
              0.4444444444444444,
              "#bd3786"
             ],
             [
              0.5555555555555556,
              "#d8576b"
             ],
             [
              0.6666666666666666,
              "#ed7953"
             ],
             [
              0.7777777777777778,
              "#fb9f3a"
             ],
             [
              0.8888888888888888,
              "#fdca26"
             ],
             [
              1,
              "#f0f921"
             ]
            ],
            "type": "histogram2dcontour"
           }
          ],
          "mesh3d": [
           {
            "colorbar": {
             "outlinewidth": 0,
             "ticks": ""
            },
            "type": "mesh3d"
           }
          ],
          "parcoords": [
           {
            "line": {
             "colorbar": {
              "outlinewidth": 0,
              "ticks": ""
             }
            },
            "type": "parcoords"
           }
          ],
          "pie": [
           {
            "automargin": true,
            "type": "pie"
           }
          ],
          "scatter": [
           {
            "fillpattern": {
             "fillmode": "overlay",
             "size": 10,
             "solidity": 0.2
            },
            "type": "scatter"
           }
          ],
          "scatter3d": [
           {
            "line": {
             "colorbar": {
              "outlinewidth": 0,
              "ticks": ""
             }
            },
            "marker": {
             "colorbar": {
              "outlinewidth": 0,
              "ticks": ""
             }
            },
            "type": "scatter3d"
           }
          ],
          "scattercarpet": [
           {
            "marker": {
             "colorbar": {
              "outlinewidth": 0,
              "ticks": ""
             }
            },
            "type": "scattercarpet"
           }
          ],
          "scattergeo": [
           {
            "marker": {
             "colorbar": {
              "outlinewidth": 0,
              "ticks": ""
             }
            },
            "type": "scattergeo"
           }
          ],
          "scattergl": [
           {
            "marker": {
             "colorbar": {
              "outlinewidth": 0,
              "ticks": ""
             }
            },
            "type": "scattergl"
           }
          ],
          "scattermapbox": [
           {
            "marker": {
             "colorbar": {
              "outlinewidth": 0,
              "ticks": ""
             }
            },
            "type": "scattermapbox"
           }
          ],
          "scatterpolar": [
           {
            "marker": {
             "colorbar": {
              "outlinewidth": 0,
              "ticks": ""
             }
            },
            "type": "scatterpolar"
           }
          ],
          "scatterpolargl": [
           {
            "marker": {
             "colorbar": {
              "outlinewidth": 0,
              "ticks": ""
             }
            },
            "type": "scatterpolargl"
           }
          ],
          "scatterternary": [
           {
            "marker": {
             "colorbar": {
              "outlinewidth": 0,
              "ticks": ""
             }
            },
            "type": "scatterternary"
           }
          ],
          "surface": [
           {
            "colorbar": {
             "outlinewidth": 0,
             "ticks": ""
            },
            "colorscale": [
             [
              0,
              "#0d0887"
             ],
             [
              0.1111111111111111,
              "#46039f"
             ],
             [
              0.2222222222222222,
              "#7201a8"
             ],
             [
              0.3333333333333333,
              "#9c179e"
             ],
             [
              0.4444444444444444,
              "#bd3786"
             ],
             [
              0.5555555555555556,
              "#d8576b"
             ],
             [
              0.6666666666666666,
              "#ed7953"
             ],
             [
              0.7777777777777778,
              "#fb9f3a"
             ],
             [
              0.8888888888888888,
              "#fdca26"
             ],
             [
              1,
              "#f0f921"
             ]
            ],
            "type": "surface"
           }
          ],
          "table": [
           {
            "cells": {
             "fill": {
              "color": "#EBF0F8"
             },
             "line": {
              "color": "white"
             }
            },
            "header": {
             "fill": {
              "color": "#C8D4E3"
             },
             "line": {
              "color": "white"
             }
            },
            "type": "table"
           }
          ]
         },
         "layout": {
          "annotationdefaults": {
           "arrowcolor": "#2a3f5f",
           "arrowhead": 0,
           "arrowwidth": 1
          },
          "autotypenumbers": "strict",
          "coloraxis": {
           "colorbar": {
            "outlinewidth": 0,
            "ticks": ""
           }
          },
          "colorscale": {
           "diverging": [
            [
             0,
             "#8e0152"
            ],
            [
             0.1,
             "#c51b7d"
            ],
            [
             0.2,
             "#de77ae"
            ],
            [
             0.3,
             "#f1b6da"
            ],
            [
             0.4,
             "#fde0ef"
            ],
            [
             0.5,
             "#f7f7f7"
            ],
            [
             0.6,
             "#e6f5d0"
            ],
            [
             0.7,
             "#b8e186"
            ],
            [
             0.8,
             "#7fbc41"
            ],
            [
             0.9,
             "#4d9221"
            ],
            [
             1,
             "#276419"
            ]
           ],
           "sequential": [
            [
             0,
             "#0d0887"
            ],
            [
             0.1111111111111111,
             "#46039f"
            ],
            [
             0.2222222222222222,
             "#7201a8"
            ],
            [
             0.3333333333333333,
             "#9c179e"
            ],
            [
             0.4444444444444444,
             "#bd3786"
            ],
            [
             0.5555555555555556,
             "#d8576b"
            ],
            [
             0.6666666666666666,
             "#ed7953"
            ],
            [
             0.7777777777777778,
             "#fb9f3a"
            ],
            [
             0.8888888888888888,
             "#fdca26"
            ],
            [
             1,
             "#f0f921"
            ]
           ],
           "sequentialminus": [
            [
             0,
             "#0d0887"
            ],
            [
             0.1111111111111111,
             "#46039f"
            ],
            [
             0.2222222222222222,
             "#7201a8"
            ],
            [
             0.3333333333333333,
             "#9c179e"
            ],
            [
             0.4444444444444444,
             "#bd3786"
            ],
            [
             0.5555555555555556,
             "#d8576b"
            ],
            [
             0.6666666666666666,
             "#ed7953"
            ],
            [
             0.7777777777777778,
             "#fb9f3a"
            ],
            [
             0.8888888888888888,
             "#fdca26"
            ],
            [
             1,
             "#f0f921"
            ]
           ]
          },
          "colorway": [
           "#636efa",
           "#EF553B",
           "#00cc96",
           "#ab63fa",
           "#FFA15A",
           "#19d3f3",
           "#FF6692",
           "#B6E880",
           "#FF97FF",
           "#FECB52"
          ],
          "font": {
           "color": "#2a3f5f"
          },
          "geo": {
           "bgcolor": "white",
           "lakecolor": "white",
           "landcolor": "#E5ECF6",
           "showlakes": true,
           "showland": true,
           "subunitcolor": "white"
          },
          "hoverlabel": {
           "align": "left"
          },
          "hovermode": "closest",
          "mapbox": {
           "style": "light"
          },
          "paper_bgcolor": "white",
          "plot_bgcolor": "#E5ECF6",
          "polar": {
           "angularaxis": {
            "gridcolor": "white",
            "linecolor": "white",
            "ticks": ""
           },
           "bgcolor": "#E5ECF6",
           "radialaxis": {
            "gridcolor": "white",
            "linecolor": "white",
            "ticks": ""
           }
          },
          "scene": {
           "xaxis": {
            "backgroundcolor": "#E5ECF6",
            "gridcolor": "white",
            "gridwidth": 2,
            "linecolor": "white",
            "showbackground": true,
            "ticks": "",
            "zerolinecolor": "white"
           },
           "yaxis": {
            "backgroundcolor": "#E5ECF6",
            "gridcolor": "white",
            "gridwidth": 2,
            "linecolor": "white",
            "showbackground": true,
            "ticks": "",
            "zerolinecolor": "white"
           },
           "zaxis": {
            "backgroundcolor": "#E5ECF6",
            "gridcolor": "white",
            "gridwidth": 2,
            "linecolor": "white",
            "showbackground": true,
            "ticks": "",
            "zerolinecolor": "white"
           }
          },
          "shapedefaults": {
           "line": {
            "color": "#2a3f5f"
           }
          },
          "ternary": {
           "aaxis": {
            "gridcolor": "white",
            "linecolor": "white",
            "ticks": ""
           },
           "baxis": {
            "gridcolor": "white",
            "linecolor": "white",
            "ticks": ""
           },
           "bgcolor": "#E5ECF6",
           "caxis": {
            "gridcolor": "white",
            "linecolor": "white",
            "ticks": ""
           }
          },
          "title": {
           "x": 0.05
          },
          "xaxis": {
           "automargin": true,
           "gridcolor": "white",
           "linecolor": "white",
           "ticks": "",
           "title": {
            "standoff": 15
           },
           "zerolinecolor": "white",
           "zerolinewidth": 2
          },
          "yaxis": {
           "automargin": true,
           "gridcolor": "white",
           "linecolor": "white",
           "ticks": "",
           "title": {
            "standoff": 15
           },
           "zerolinecolor": "white",
           "zerolinewidth": 2
          }
         }
        },
        "title": {
         "text": "some"
        },
        "width": 1200
       }
      }
     },
     "metadata": {},
     "output_type": "display_data"
    }
   ],
   "source": []
  },
  {
   "cell_type": "code",
   "execution_count": 10,
   "metadata": {},
   "outputs": [
    {
     "data": {
      "text/plain": [
       "Fiber Optic    1297\n",
       "Dsl             459\n",
       "No              113\n",
       "Name: InternetService, dtype: int64"
      ]
     },
     "execution_count": 10,
     "metadata": {},
     "output_type": "execute_result"
    }
   ],
   "source": [
    "ch_df = df[df['Churn'] == \"Yes\"]\n",
    "ch_df['InternetService'].value_counts()"
   ]
  },
  {
   "cell_type": "code",
   "execution_count": 11,
   "metadata": {},
   "outputs": [
    {
     "data": {
      "text/plain": [
       "0.6939539860888175"
      ]
     },
     "execution_count": 11,
     "metadata": {},
     "output_type": "execute_result"
    }
   ],
   "source": [
    "1297/(1297+459+113)"
   ]
  },
  {
   "cell_type": "code",
   "execution_count": null,
   "metadata": {},
   "outputs": [],
   "source": []
  },
  {
   "cell_type": "code",
   "execution_count": 22,
   "metadata": {},
   "outputs": [],
   "source": [
    "churn_df = df[df['Churn'] == \"Yes\"]\n",
    "no_churn_df = df[df['Churn'] == \"No\"]\n",
    "retained_revenue = no_churn_df['MonthlyCharges'].sum()\n",
    "not_retained = churn_df['MonthlyCharges'].sum()\n",
    "total_revenue = df['MonthlyCharges'].sum()"
   ]
  },
  {
   "cell_type": "code",
   "execution_count": 24,
   "metadata": {},
   "outputs": [
    {
     "data": {
      "text/plain": [
       "(316530.15, 139130.85, 455661.0)"
      ]
     },
     "execution_count": 24,
     "metadata": {},
     "output_type": "execute_result"
    }
   ],
   "source": [
    "retained_revenue, not_retained, total_revenue"
   ]
  },
  {
   "cell_type": "code",
   "execution_count": 32,
   "metadata": {},
   "outputs": [
    {
     "data": {
      "text/html": [
       "<div>\n",
       "<style scoped>\n",
       "    .dataframe tbody tr th:only-of-type {\n",
       "        vertical-align: middle;\n",
       "    }\n",
       "\n",
       "    .dataframe tbody tr th {\n",
       "        vertical-align: top;\n",
       "    }\n",
       "\n",
       "    .dataframe thead th {\n",
       "        text-align: right;\n",
       "    }\n",
       "</style>\n",
       "<table border=\"1\" class=\"dataframe\">\n",
       "  <thead>\n",
       "    <tr style=\"text-align: right;\">\n",
       "      <th></th>\n",
       "      <th>Gender</th>\n",
       "      <th>SeniorCitizen</th>\n",
       "      <th>Partner</th>\n",
       "      <th>Dependents</th>\n",
       "      <th>Tenure</th>\n",
       "      <th>PhoneService</th>\n",
       "      <th>MultipleLines</th>\n",
       "      <th>InternetService</th>\n",
       "      <th>OnlineSecurity</th>\n",
       "      <th>OnlineBackup</th>\n",
       "      <th>DeviceProtection</th>\n",
       "      <th>TechSupport</th>\n",
       "      <th>StreamingTV</th>\n",
       "      <th>StreamingMovies</th>\n",
       "      <th>Contract</th>\n",
       "      <th>PaperlessBilling</th>\n",
       "      <th>PaymentMethod</th>\n",
       "      <th>MonthlyCharges</th>\n",
       "      <th>TotalCharges</th>\n",
       "      <th>Churn</th>\n",
       "    </tr>\n",
       "  </thead>\n",
       "  <tbody>\n",
       "    <tr>\n",
       "      <th>0</th>\n",
       "      <td>Female</td>\n",
       "      <td>0</td>\n",
       "      <td>Yes</td>\n",
       "      <td>No</td>\n",
       "      <td>1</td>\n",
       "      <td>No</td>\n",
       "      <td>No Phone Service</td>\n",
       "      <td>Dsl</td>\n",
       "      <td>No</td>\n",
       "      <td>Yes</td>\n",
       "      <td>No</td>\n",
       "      <td>No</td>\n",
       "      <td>No</td>\n",
       "      <td>No</td>\n",
       "      <td>Month-To-Month</td>\n",
       "      <td>Yes</td>\n",
       "      <td>Electronic Check</td>\n",
       "      <td>29.85</td>\n",
       "      <td>29.85</td>\n",
       "      <td>0</td>\n",
       "    </tr>\n",
       "    <tr>\n",
       "      <th>1</th>\n",
       "      <td>Male</td>\n",
       "      <td>0</td>\n",
       "      <td>No</td>\n",
       "      <td>No</td>\n",
       "      <td>34</td>\n",
       "      <td>Yes</td>\n",
       "      <td>No</td>\n",
       "      <td>Dsl</td>\n",
       "      <td>Yes</td>\n",
       "      <td>No</td>\n",
       "      <td>Yes</td>\n",
       "      <td>No</td>\n",
       "      <td>No</td>\n",
       "      <td>No</td>\n",
       "      <td>One Year</td>\n",
       "      <td>No</td>\n",
       "      <td>Mailed Check</td>\n",
       "      <td>56.95</td>\n",
       "      <td>1889.50</td>\n",
       "      <td>0</td>\n",
       "    </tr>\n",
       "    <tr>\n",
       "      <th>2</th>\n",
       "      <td>Male</td>\n",
       "      <td>0</td>\n",
       "      <td>No</td>\n",
       "      <td>No</td>\n",
       "      <td>2</td>\n",
       "      <td>Yes</td>\n",
       "      <td>No</td>\n",
       "      <td>Dsl</td>\n",
       "      <td>Yes</td>\n",
       "      <td>Yes</td>\n",
       "      <td>No</td>\n",
       "      <td>No</td>\n",
       "      <td>No</td>\n",
       "      <td>No</td>\n",
       "      <td>Month-To-Month</td>\n",
       "      <td>Yes</td>\n",
       "      <td>Mailed Check</td>\n",
       "      <td>53.85</td>\n",
       "      <td>108.15</td>\n",
       "      <td>1</td>\n",
       "    </tr>\n",
       "    <tr>\n",
       "      <th>3</th>\n",
       "      <td>Male</td>\n",
       "      <td>0</td>\n",
       "      <td>No</td>\n",
       "      <td>No</td>\n",
       "      <td>45</td>\n",
       "      <td>No</td>\n",
       "      <td>No Phone Service</td>\n",
       "      <td>Dsl</td>\n",
       "      <td>Yes</td>\n",
       "      <td>No</td>\n",
       "      <td>Yes</td>\n",
       "      <td>Yes</td>\n",
       "      <td>No</td>\n",
       "      <td>No</td>\n",
       "      <td>One Year</td>\n",
       "      <td>No</td>\n",
       "      <td>Bank Transfer (Automatic)</td>\n",
       "      <td>42.30</td>\n",
       "      <td>1840.75</td>\n",
       "      <td>0</td>\n",
       "    </tr>\n",
       "    <tr>\n",
       "      <th>4</th>\n",
       "      <td>Female</td>\n",
       "      <td>0</td>\n",
       "      <td>No</td>\n",
       "      <td>No</td>\n",
       "      <td>2</td>\n",
       "      <td>Yes</td>\n",
       "      <td>No</td>\n",
       "      <td>Fiber Optic</td>\n",
       "      <td>No</td>\n",
       "      <td>No</td>\n",
       "      <td>No</td>\n",
       "      <td>No</td>\n",
       "      <td>No</td>\n",
       "      <td>No</td>\n",
       "      <td>Month-To-Month</td>\n",
       "      <td>Yes</td>\n",
       "      <td>Electronic Check</td>\n",
       "      <td>70.70</td>\n",
       "      <td>151.65</td>\n",
       "      <td>1</td>\n",
       "    </tr>\n",
       "  </tbody>\n",
       "</table>\n",
       "</div>"
      ],
      "text/plain": [
       "   Gender  SeniorCitizen Partner Dependents  Tenure PhoneService  \\\n",
       "0  Female              0     Yes         No       1           No   \n",
       "1    Male              0      No         No      34          Yes   \n",
       "2    Male              0      No         No       2          Yes   \n",
       "3    Male              0      No         No      45           No   \n",
       "4  Female              0      No         No       2          Yes   \n",
       "\n",
       "      MultipleLines InternetService OnlineSecurity OnlineBackup  \\\n",
       "0  No Phone Service             Dsl             No          Yes   \n",
       "1                No             Dsl            Yes           No   \n",
       "2                No             Dsl            Yes          Yes   \n",
       "3  No Phone Service             Dsl            Yes           No   \n",
       "4                No     Fiber Optic             No           No   \n",
       "\n",
       "  DeviceProtection TechSupport StreamingTV StreamingMovies        Contract  \\\n",
       "0               No          No          No              No  Month-To-Month   \n",
       "1              Yes          No          No              No        One Year   \n",
       "2               No          No          No              No  Month-To-Month   \n",
       "3              Yes         Yes          No              No        One Year   \n",
       "4               No          No          No              No  Month-To-Month   \n",
       "\n",
       "  PaperlessBilling              PaymentMethod  MonthlyCharges  TotalCharges  \\\n",
       "0              Yes           Electronic Check           29.85         29.85   \n",
       "1               No               Mailed Check           56.95       1889.50   \n",
       "2              Yes               Mailed Check           53.85        108.15   \n",
       "3               No  Bank Transfer (Automatic)           42.30       1840.75   \n",
       "4              Yes           Electronic Check           70.70        151.65   \n",
       "\n",
       "   Churn  \n",
       "0      0  \n",
       "1      0  \n",
       "2      1  \n",
       "3      0  \n",
       "4      1  "
      ]
     },
     "execution_count": 32,
     "metadata": {},
     "output_type": "execute_result"
    }
   ],
   "source": []
  },
  {
   "cell_type": "code",
   "execution_count": 36,
   "metadata": {},
   "outputs": [],
   "source": [
    "df[\"Churn\"] = df['Churn'].replace({\"Yes\":1, \"No\":0})\n",
    "    \n",
    "tmp_churn = df[df['Churn'] == 1]\n",
    "tmp_no_churn = df[df['Churn'] == 0]    "
   ]
  },
  {
   "cell_type": "code",
   "execution_count": 37,
   "metadata": {},
   "outputs": [
    {
     "data": {
      "text/plain": [
       "0.193"
      ]
     },
     "execution_count": 37,
     "metadata": {},
     "output_type": "execute_result"
    }
   ],
   "source": [
    "corr = df['Churn'].corr(df['MonthlyCharges'])\n",
    "corr = np.round(corr,3)\n",
    "corr"
   ]
  },
  {
   "cell_type": "code",
   "execution_count": 38,
   "metadata": {},
   "outputs": [],
   "source": [
    "tmp1 = tmp_churn['MonthlyCharges'].dropna()\n",
    "tmp2 = tmp_no_churn['MonthlyCharges'].dropna()"
   ]
  },
  {
   "cell_type": "code",
   "execution_count": 41,
   "metadata": {},
   "outputs": [],
   "source": [
    "hist_data = [tmp1, tmp2]"
   ]
  },
  {
   "cell_type": "code",
   "execution_count": 43,
   "metadata": {},
   "outputs": [],
   "source": [
    "group_labels = ['Yes_churn', 'No_churn']\n",
    "colors = ['seagreen','indianred', ]"
   ]
  },
  {
   "cell_type": "code",
   "execution_count": 46,
   "metadata": {},
   "outputs": [],
   "source": [
    "import plotly.figure_factory as ff\n",
    "import matplotlib.pyplot as plt\n",
    "import plotly.figure_factory as ff\n",
    "from plotly.offline import iplot"
   ]
  },
  {
   "cell_type": "code",
   "execution_count": 52,
   "metadata": {},
   "outputs": [],
   "source": [
    "df[\"Churn\"] = df['Churn'].replace({\"Yes\":1, \"No\":0})\n",
    "tmp_churn = df[df['Churn'] == \"Yes\"]\n",
    "tmp_no_churn = df[df['Churn'] == \"No\"]    \n",
    "corr = df['Churn'].corr(df['MonthlyCharges'])\n",
    "corr = np.round(corr,3)\n",
    "tmp1 = tmp_churn['MonthlyCharges'].dropna()\n",
    "tmp2 = tmp_no_churn['MonthlyCharges'].dropna()\n",
    "hist_data = [tmp1, tmp2]"
   ]
  },
  {
   "cell_type": "code",
   "execution_count": 54,
   "metadata": {},
   "outputs": [
    {
     "data": {
      "text/plain": [
       "0.193"
      ]
     },
     "execution_count": 54,
     "metadata": {},
     "output_type": "execute_result"
    }
   ],
   "source": [
    "corr"
   ]
  },
  {
   "cell_type": "code",
   "execution_count": 47,
   "metadata": {},
   "outputs": [],
   "source": [
    "def plot_distribution(df, var_select=None, bins=1.0): \n",
    "    # Calculate the correlation coefficient between the new variable and the target\n",
    "    df[\"Churn\"] = df['Churn'].replace({\"Yes\":1, \"No\":0})\n",
    "    tmp_churn = df[df['Churn'] == \"Yes\"]\n",
    "    tmp_no_churn = df[df['Churn'] == \"No\"]    \n",
    "    corr = df['Churn'].corr(df[var_select])\n",
    "    corr = np.round(corr,3)\n",
    "    tmp1 = tmp_churn[var_select].dropna()\n",
    "    tmp2 = tmp_no_churn[var_select].dropna()\n",
    "    hist_data = [tmp1, tmp2]\n",
    "    \n",
    "    group_labels = ['Yes_churn', 'No_churn']\n",
    "    colors = ['seagreen','indianred', ]\n",
    "\n",
    "    fig = ff.create_distplot(hist_data,\n",
    "                             group_labels,\n",
    "                             colors = colors, \n",
    "                             show_hist = True,\n",
    "                             curve_type='kde', \n",
    "                             bin_size = bins, \n",
    "                            )\n",
    "    \n",
    "    fig['layout'].update(title = var_select+' '+'(corr target ='+ str(corr)+')')\n",
    "    # iplot(fig, filename = 'Density plot')\n",
    "\n",
    "    return iplot(fig, filename = 'Density plot')"
   ]
  },
  {
   "cell_type": "code",
   "execution_count": 49,
   "metadata": {},
   "outputs": [
    {
     "ename": "ValueError",
     "evalue": "min() arg is an empty sequence",
     "output_type": "error",
     "traceback": [
      "\u001b[0;31m---------------------------------------------------------------------------\u001b[0m",
      "\u001b[0;31mValueError\u001b[0m                                Traceback (most recent call last)",
      "\u001b[1;32m/media/pratik/Projects/telcom-churn/churn_eda.ipynb Cell 14'\u001b[0m in \u001b[0;36m<cell line: 1>\u001b[0;34m()\u001b[0m\n\u001b[0;32m----> <a href='vscode-notebook-cell:/media/pratik/Projects/telcom-churn/churn_eda.ipynb#ch0000027?line=0'>1</a>\u001b[0m plot_distribution(df, var_select\u001b[39m=\u001b[39;49m\u001b[39m'\u001b[39;49m\u001b[39mMonthlyCharges\u001b[39;49m\u001b[39m'\u001b[39;49m, bins\u001b[39m=\u001b[39;49m\u001b[39m4\u001b[39;49m)\n",
      "\u001b[1;32m/media/pratik/Projects/telcom-churn/churn_eda.ipynb Cell 13'\u001b[0m in \u001b[0;36mplot_distribution\u001b[0;34m(df, var_select, bins)\u001b[0m\n\u001b[1;32m     <a href='vscode-notebook-cell:/media/pratik/Projects/telcom-churn/churn_eda.ipynb#ch0000028?line=11'>12</a>\u001b[0m group_labels \u001b[39m=\u001b[39m [\u001b[39m'\u001b[39m\u001b[39mYes_churn\u001b[39m\u001b[39m'\u001b[39m, \u001b[39m'\u001b[39m\u001b[39mNo_churn\u001b[39m\u001b[39m'\u001b[39m]\n\u001b[1;32m     <a href='vscode-notebook-cell:/media/pratik/Projects/telcom-churn/churn_eda.ipynb#ch0000028?line=12'>13</a>\u001b[0m colors \u001b[39m=\u001b[39m [\u001b[39m'\u001b[39m\u001b[39mseagreen\u001b[39m\u001b[39m'\u001b[39m,\u001b[39m'\u001b[39m\u001b[39mindianred\u001b[39m\u001b[39m'\u001b[39m, ]\n\u001b[0;32m---> <a href='vscode-notebook-cell:/media/pratik/Projects/telcom-churn/churn_eda.ipynb#ch0000028?line=14'>15</a>\u001b[0m fig \u001b[39m=\u001b[39m ff\u001b[39m.\u001b[39;49mcreate_distplot(hist_data,\n\u001b[1;32m     <a href='vscode-notebook-cell:/media/pratik/Projects/telcom-churn/churn_eda.ipynb#ch0000028?line=15'>16</a>\u001b[0m                          group_labels,\n\u001b[1;32m     <a href='vscode-notebook-cell:/media/pratik/Projects/telcom-churn/churn_eda.ipynb#ch0000028?line=16'>17</a>\u001b[0m                          colors \u001b[39m=\u001b[39;49m colors, \n\u001b[1;32m     <a href='vscode-notebook-cell:/media/pratik/Projects/telcom-churn/churn_eda.ipynb#ch0000028?line=17'>18</a>\u001b[0m                          show_hist \u001b[39m=\u001b[39;49m \u001b[39mTrue\u001b[39;49;00m,\n\u001b[1;32m     <a href='vscode-notebook-cell:/media/pratik/Projects/telcom-churn/churn_eda.ipynb#ch0000028?line=18'>19</a>\u001b[0m                          curve_type\u001b[39m=\u001b[39;49m\u001b[39m'\u001b[39;49m\u001b[39mkde\u001b[39;49m\u001b[39m'\u001b[39;49m, \n\u001b[1;32m     <a href='vscode-notebook-cell:/media/pratik/Projects/telcom-churn/churn_eda.ipynb#ch0000028?line=19'>20</a>\u001b[0m                          bin_size \u001b[39m=\u001b[39;49m bins\n\u001b[1;32m     <a href='vscode-notebook-cell:/media/pratik/Projects/telcom-churn/churn_eda.ipynb#ch0000028?line=20'>21</a>\u001b[0m                         )\n\u001b[1;32m     <a href='vscode-notebook-cell:/media/pratik/Projects/telcom-churn/churn_eda.ipynb#ch0000028?line=22'>23</a>\u001b[0m fig[\u001b[39m'\u001b[39m\u001b[39mlayout\u001b[39m\u001b[39m'\u001b[39m]\u001b[39m.\u001b[39mupdate(title \u001b[39m=\u001b[39m var_select\u001b[39m+\u001b[39m\u001b[39m'\u001b[39m\u001b[39m \u001b[39m\u001b[39m'\u001b[39m\u001b[39m+\u001b[39m\u001b[39m'\u001b[39m\u001b[39m(corr target =\u001b[39m\u001b[39m'\u001b[39m\u001b[39m+\u001b[39m \u001b[39mstr\u001b[39m(corr)\u001b[39m+\u001b[39m\u001b[39m'\u001b[39m\u001b[39m)\u001b[39m\u001b[39m'\u001b[39m)\n\u001b[1;32m     <a href='vscode-notebook-cell:/media/pratik/Projects/telcom-churn/churn_eda.ipynb#ch0000028?line=23'>24</a>\u001b[0m \u001b[39m# iplot(fig, filename = 'Density plot')\u001b[39;00m\n",
      "File \u001b[0;32m~/.virtualenvs/stream/lib/python3.8/site-packages/plotly/figure_factory/_distplot.py:189\u001b[0m, in \u001b[0;36mcreate_distplot\u001b[0;34m(hist_data, group_labels, bin_size, curve_type, colors, rug_text, histnorm, show_hist, show_curve, show_rug)\u001b[0m\n\u001b[1;32m    186\u001b[0m data \u001b[39m=\u001b[39m []\n\u001b[1;32m    187\u001b[0m \u001b[39mif\u001b[39;00m show_hist:\n\u001b[0;32m--> 189\u001b[0m     hist \u001b[39m=\u001b[39m _Distplot(\n\u001b[1;32m    190\u001b[0m         hist_data,\n\u001b[1;32m    191\u001b[0m         histnorm,\n\u001b[1;32m    192\u001b[0m         group_labels,\n\u001b[1;32m    193\u001b[0m         bin_size,\n\u001b[1;32m    194\u001b[0m         curve_type,\n\u001b[1;32m    195\u001b[0m         colors,\n\u001b[1;32m    196\u001b[0m         rug_text,\n\u001b[1;32m    197\u001b[0m         show_hist,\n\u001b[1;32m    198\u001b[0m         show_curve,\n\u001b[1;32m    199\u001b[0m     )\u001b[39m.\u001b[39mmake_hist()\n\u001b[1;32m    201\u001b[0m     data\u001b[39m.\u001b[39mappend(hist)\n\u001b[1;32m    203\u001b[0m \u001b[39mif\u001b[39;00m show_curve:\n",
      "File \u001b[0;32m~/.virtualenvs/stream/lib/python3.8/site-packages/plotly/figure_factory/_distplot.py:318\u001b[0m, in \u001b[0;36m_Distplot.__init__\u001b[0;34m(self, hist_data, histnorm, group_labels, bin_size, curve_type, colors, rug_text, show_hist, show_curve)\u001b[0m\n\u001b[1;32m    315\u001b[0m \u001b[39mself\u001b[39m\u001b[39m.\u001b[39mcurve_y \u001b[39m=\u001b[39m [\u001b[39mNone\u001b[39;00m] \u001b[39m*\u001b[39m \u001b[39mself\u001b[39m\u001b[39m.\u001b[39mtrace_number\n\u001b[1;32m    317\u001b[0m \u001b[39mfor\u001b[39;00m trace \u001b[39min\u001b[39;00m \u001b[39mself\u001b[39m\u001b[39m.\u001b[39mhist_data:\n\u001b[0;32m--> 318\u001b[0m     \u001b[39mself\u001b[39m\u001b[39m.\u001b[39mstart\u001b[39m.\u001b[39mappend(\u001b[39mmin\u001b[39;49m(trace) \u001b[39m*\u001b[39m \u001b[39m1.0\u001b[39m)\n\u001b[1;32m    319\u001b[0m     \u001b[39mself\u001b[39m\u001b[39m.\u001b[39mend\u001b[39m.\u001b[39mappend(\u001b[39mmax\u001b[39m(trace) \u001b[39m*\u001b[39m \u001b[39m1.0\u001b[39m)\n",
      "\u001b[0;31mValueError\u001b[0m: min() arg is an empty sequence"
     ]
    }
   ],
   "source": [
    "# plot_distribution(df, var_select='MonthlyCharges', bins=4)"
   ]
  },
  {
   "cell_type": "code",
   "execution_count": 55,
   "metadata": {},
   "outputs": [
    {
     "name": "stdout",
     "output_type": "stream",
     "text": [
      "<class 'pandas.core.frame.DataFrame'>\n",
      "Int64Index: 7032 entries, 0 to 7042\n",
      "Data columns (total 20 columns):\n",
      " #   Column            Non-Null Count  Dtype  \n",
      "---  ------            --------------  -----  \n",
      " 0   Gender            7032 non-null   object \n",
      " 1   SeniorCitizen     7032 non-null   int64  \n",
      " 2   Partner           7032 non-null   object \n",
      " 3   Dependents        7032 non-null   object \n",
      " 4   Tenure            7032 non-null   int64  \n",
      " 5   PhoneService      7032 non-null   object \n",
      " 6   MultipleLines     7032 non-null   object \n",
      " 7   InternetService   7032 non-null   object \n",
      " 8   OnlineSecurity    7032 non-null   object \n",
      " 9   OnlineBackup      7032 non-null   object \n",
      " 10  DeviceProtection  7032 non-null   object \n",
      " 11  TechSupport       7032 non-null   object \n",
      " 12  StreamingTV       7032 non-null   object \n",
      " 13  StreamingMovies   7032 non-null   object \n",
      " 14  Contract          7032 non-null   object \n",
      " 15  PaperlessBilling  7032 non-null   object \n",
      " 16  PaymentMethod     7032 non-null   object \n",
      " 17  MonthlyCharges    7032 non-null   float64\n",
      " 18  TotalCharges      7032 non-null   float64\n",
      " 19  Churn             7032 non-null   int64  \n",
      "dtypes: float64(2), int64(3), object(15)\n",
      "memory usage: 1.1+ MB\n"
     ]
    }
   ],
   "source": [
    "df.info()"
   ]
  },
  {
   "cell_type": "code",
   "execution_count": null,
   "metadata": {},
   "outputs": [],
   "source": []
  },
  {
   "cell_type": "code",
   "execution_count": null,
   "metadata": {},
   "outputs": [],
   "source": []
  },
  {
   "cell_type": "code",
   "execution_count": 58,
   "metadata": {},
   "outputs": [],
   "source": [
    "cat_col = 'Gender'"
   ]
  },
  {
   "cell_type": "code",
   "execution_count": 102,
   "metadata": {},
   "outputs": [
    {
     "name": "stdout",
     "output_type": "stream",
     "text": [
      "This is the format of your plot grid:\n",
      "[ (1,1) x,y ]\n",
      "\n"
     ]
    }
   ],
   "source": [
    "from plotly.subplots import make_subplots\n",
    "fig = make_subplots(rows=1,cols=1,\n",
    "print_grid=True,\n",
    "horizontal_spacing=0.15, \n",
    "subplot_titles=(\"Distribution of and % Churn\", f'Mean Monthly Charges of {cat_col}') )\n",
    "\n",
    "df[\"Churn\"] = df['Churn'].replace({\"Yes\":1, \"No\":0})\n",
    "tmp_churn = df[df['Churn'] == 1]\n",
    "tmp_no_churn = df[df['Churn'] == 0]  "
   ]
  },
  {
   "cell_type": "code",
   "execution_count": 66,
   "metadata": {},
   "outputs": [],
   "source": [
    "tmp_attr = round(tmp_churn[cat_col].value_counts().sort_index() / df[cat_col].value_counts().sort_index(),2)*100"
   ]
  },
  {
   "cell_type": "code",
   "execution_count": 67,
   "metadata": {},
   "outputs": [
    {
     "data": {
      "text/plain": [
       "Female    27.0\n",
       "Male      26.0\n",
       "Name: Gender, dtype: float64"
      ]
     },
     "execution_count": 67,
     "metadata": {},
     "output_type": "execute_result"
    }
   ],
   "source": [
    "tmp_attr"
   ]
  },
  {
   "cell_type": "code",
   "execution_count": 97,
   "metadata": {},
   "outputs": [],
   "source": [
    "x=tmp_churn[cat_col].value_counts().sort_index().index\n",
    "y=tmp_churn[cat_col].value_counts().sort_index().values"
   ]
  },
  {
   "cell_type": "code",
   "execution_count": 122,
   "metadata": {},
   "outputs": [
    {
     "name": "stdout",
     "output_type": "stream",
     "text": [
      "This is the format of your plot grid:\n",
      "[ (1,1) x,y   ]  [ (1,2) x2,y2 ]\n",
      "\n"
     ]
    }
   ],
   "source": [
    "from plotly.subplots import make_subplots\n",
    "fig = make_subplots(rows=1,cols=2,\n",
    "print_grid=True,\n",
    "horizontal_spacing=0.15, \n",
    "subplot_titles=(\"Distribution of and % Churn\", f'Mean Monthly Charges of {cat_col}') )\n",
    "\n",
    "df[\"Churn\"] = df['Churn'].replace({\"Yes\":1, \"No\":0})\n",
    "tmp_churn = df[df['Churn'] == 1]\n",
    "tmp_no_churn = df[df['Churn'] == 0]  \n",
    "trace1 = go.Bar(\n",
    "        x=tmp_churn[cat_col].value_counts().sort_index().index,\n",
    "        y=tmp_churn[cat_col].value_counts().sort_index().values,\n",
    "        name='Yes_Churn',opacity = 0.8, marker=dict(\n",
    "            color='seagreen',\n",
    "            line=dict(color='#000000',width=1)))\n",
    "\n",
    "trace2 = go.Bar(\n",
    "    x=tmp_no_churn[cat_col].value_counts().sort_index().index,\n",
    "    y=tmp_no_churn[cat_col].value_counts().sort_index().values,\n",
    "    name='No_Churn', opacity = 0.8, \n",
    "    marker=dict(\n",
    "        color='indianred',\n",
    "        line=dict(color='#000000',\n",
    "                    width=1)\n",
    "    )\n",
    ")\n",
    "\n",
    "trace3 =  go.Scatter(   \n",
    "        x=tmp_attr.sort_index().index,\n",
    "        y=tmp_attr.sort_index().values,\n",
    "        yaxis = 'y2',\n",
    "        name='% Churn', opacity = 0.6, \n",
    "        marker=dict(\n",
    "            color='black',\n",
    "            line=dict(color='#000000',\n",
    "                      width=2 )\n",
    "        )\n",
    "    )"
   ]
  },
  {
   "cell_type": "code",
   "execution_count": 123,
   "metadata": {},
   "outputs": [],
   "source": [
    "fig.append_trace(trace1, 1, 1)\n",
    "fig.append_trace(trace2, 1, 1) \n",
    "fig.append_trace(trace3, 1, 1)\n",
    "fig['data'][2].update(yaxis='y3')\n",
    "fig['layout']['yaxis3']=dict(range= [0, 100], #right y-axis in subplot (1,1)\n",
    "                            overlaying= 'y', \n",
    "                            anchor= 'x', \n",
    "                            side= 'right', \n",
    "                            showgrid= False, \n",
    "                            title= '%Churn Ratio'\n",
    "                            )\n"
   ]
  },
  {
   "cell_type": "code",
   "execution_count": 124,
   "metadata": {},
   "outputs": [
    {
     "data": {
      "application/vnd.plotly.v1+json": {
       "config": {
        "plotlyServerURL": "https://plot.ly"
       },
       "data": [
        {
         "marker": {
          "color": "seagreen",
          "line": {
           "color": "#000000",
           "width": 1
          }
         },
         "name": "Yes_Churn",
         "opacity": 0.8,
         "type": "bar",
         "x": [
          "Female",
          "Male"
         ],
         "xaxis": "x",
         "y": [
          939,
          930
         ],
         "yaxis": "y"
        },
        {
         "marker": {
          "color": "indianred",
          "line": {
           "color": "#000000",
           "width": 1
          }
         },
         "name": "No_Churn",
         "opacity": 0.8,
         "type": "bar",
         "x": [
          "Female",
          "Male"
         ],
         "xaxis": "x",
         "y": [
          2544,
          2619
         ],
         "yaxis": "y"
        },
        {
         "marker": {
          "color": "black",
          "line": {
           "color": "#000000",
           "width": 2
          }
         },
         "name": "% Churn",
         "opacity": 0.6,
         "type": "scatter",
         "x": [
          "Female",
          "Male"
         ],
         "xaxis": "x",
         "y": [
          27,
          26
         ],
         "yaxis": "y3"
        }
       ],
       "layout": {
        "annotations": [
         {
          "font": {
           "size": 16
          },
          "showarrow": false,
          "text": "Distribution of and % Churn",
          "x": 0.2125,
          "xanchor": "center",
          "xref": "paper",
          "y": 1,
          "yanchor": "bottom",
          "yref": "paper"
         },
         {
          "font": {
           "size": 16
          },
          "showarrow": false,
          "text": "Mean Monthly Charges of Gender",
          "x": 0.7875,
          "xanchor": "center",
          "xref": "paper",
          "y": 1,
          "yanchor": "bottom",
          "yref": "paper"
         }
        ],
        "template": {
         "data": {
          "bar": [
           {
            "error_x": {
             "color": "#2a3f5f"
            },
            "error_y": {
             "color": "#2a3f5f"
            },
            "marker": {
             "line": {
              "color": "#E5ECF6",
              "width": 0.5
             },
             "pattern": {
              "fillmode": "overlay",
              "size": 10,
              "solidity": 0.2
             }
            },
            "type": "bar"
           }
          ],
          "barpolar": [
           {
            "marker": {
             "line": {
              "color": "#E5ECF6",
              "width": 0.5
             },
             "pattern": {
              "fillmode": "overlay",
              "size": 10,
              "solidity": 0.2
             }
            },
            "type": "barpolar"
           }
          ],
          "carpet": [
           {
            "aaxis": {
             "endlinecolor": "#2a3f5f",
             "gridcolor": "white",
             "linecolor": "white",
             "minorgridcolor": "white",
             "startlinecolor": "#2a3f5f"
            },
            "baxis": {
             "endlinecolor": "#2a3f5f",
             "gridcolor": "white",
             "linecolor": "white",
             "minorgridcolor": "white",
             "startlinecolor": "#2a3f5f"
            },
            "type": "carpet"
           }
          ],
          "choropleth": [
           {
            "colorbar": {
             "outlinewidth": 0,
             "ticks": ""
            },
            "type": "choropleth"
           }
          ],
          "contour": [
           {
            "colorbar": {
             "outlinewidth": 0,
             "ticks": ""
            },
            "colorscale": [
             [
              0,
              "#0d0887"
             ],
             [
              0.1111111111111111,
              "#46039f"
             ],
             [
              0.2222222222222222,
              "#7201a8"
             ],
             [
              0.3333333333333333,
              "#9c179e"
             ],
             [
              0.4444444444444444,
              "#bd3786"
             ],
             [
              0.5555555555555556,
              "#d8576b"
             ],
             [
              0.6666666666666666,
              "#ed7953"
             ],
             [
              0.7777777777777778,
              "#fb9f3a"
             ],
             [
              0.8888888888888888,
              "#fdca26"
             ],
             [
              1,
              "#f0f921"
             ]
            ],
            "type": "contour"
           }
          ],
          "contourcarpet": [
           {
            "colorbar": {
             "outlinewidth": 0,
             "ticks": ""
            },
            "type": "contourcarpet"
           }
          ],
          "heatmap": [
           {
            "colorbar": {
             "outlinewidth": 0,
             "ticks": ""
            },
            "colorscale": [
             [
              0,
              "#0d0887"
             ],
             [
              0.1111111111111111,
              "#46039f"
             ],
             [
              0.2222222222222222,
              "#7201a8"
             ],
             [
              0.3333333333333333,
              "#9c179e"
             ],
             [
              0.4444444444444444,
              "#bd3786"
             ],
             [
              0.5555555555555556,
              "#d8576b"
             ],
             [
              0.6666666666666666,
              "#ed7953"
             ],
             [
              0.7777777777777778,
              "#fb9f3a"
             ],
             [
              0.8888888888888888,
              "#fdca26"
             ],
             [
              1,
              "#f0f921"
             ]
            ],
            "type": "heatmap"
           }
          ],
          "heatmapgl": [
           {
            "colorbar": {
             "outlinewidth": 0,
             "ticks": ""
            },
            "colorscale": [
             [
              0,
              "#0d0887"
             ],
             [
              0.1111111111111111,
              "#46039f"
             ],
             [
              0.2222222222222222,
              "#7201a8"
             ],
             [
              0.3333333333333333,
              "#9c179e"
             ],
             [
              0.4444444444444444,
              "#bd3786"
             ],
             [
              0.5555555555555556,
              "#d8576b"
             ],
             [
              0.6666666666666666,
              "#ed7953"
             ],
             [
              0.7777777777777778,
              "#fb9f3a"
             ],
             [
              0.8888888888888888,
              "#fdca26"
             ],
             [
              1,
              "#f0f921"
             ]
            ],
            "type": "heatmapgl"
           }
          ],
          "histogram": [
           {
            "marker": {
             "pattern": {
              "fillmode": "overlay",
              "size": 10,
              "solidity": 0.2
             }
            },
            "type": "histogram"
           }
          ],
          "histogram2d": [
           {
            "colorbar": {
             "outlinewidth": 0,
             "ticks": ""
            },
            "colorscale": [
             [
              0,
              "#0d0887"
             ],
             [
              0.1111111111111111,
              "#46039f"
             ],
             [
              0.2222222222222222,
              "#7201a8"
             ],
             [
              0.3333333333333333,
              "#9c179e"
             ],
             [
              0.4444444444444444,
              "#bd3786"
             ],
             [
              0.5555555555555556,
              "#d8576b"
             ],
             [
              0.6666666666666666,
              "#ed7953"
             ],
             [
              0.7777777777777778,
              "#fb9f3a"
             ],
             [
              0.8888888888888888,
              "#fdca26"
             ],
             [
              1,
              "#f0f921"
             ]
            ],
            "type": "histogram2d"
           }
          ],
          "histogram2dcontour": [
           {
            "colorbar": {
             "outlinewidth": 0,
             "ticks": ""
            },
            "colorscale": [
             [
              0,
              "#0d0887"
             ],
             [
              0.1111111111111111,
              "#46039f"
             ],
             [
              0.2222222222222222,
              "#7201a8"
             ],
             [
              0.3333333333333333,
              "#9c179e"
             ],
             [
              0.4444444444444444,
              "#bd3786"
             ],
             [
              0.5555555555555556,
              "#d8576b"
             ],
             [
              0.6666666666666666,
              "#ed7953"
             ],
             [
              0.7777777777777778,
              "#fb9f3a"
             ],
             [
              0.8888888888888888,
              "#fdca26"
             ],
             [
              1,
              "#f0f921"
             ]
            ],
            "type": "histogram2dcontour"
           }
          ],
          "mesh3d": [
           {
            "colorbar": {
             "outlinewidth": 0,
             "ticks": ""
            },
            "type": "mesh3d"
           }
          ],
          "parcoords": [
           {
            "line": {
             "colorbar": {
              "outlinewidth": 0,
              "ticks": ""
             }
            },
            "type": "parcoords"
           }
          ],
          "pie": [
           {
            "automargin": true,
            "type": "pie"
           }
          ],
          "scatter": [
           {
            "fillpattern": {
             "fillmode": "overlay",
             "size": 10,
             "solidity": 0.2
            },
            "type": "scatter"
           }
          ],
          "scatter3d": [
           {
            "line": {
             "colorbar": {
              "outlinewidth": 0,
              "ticks": ""
             }
            },
            "marker": {
             "colorbar": {
              "outlinewidth": 0,
              "ticks": ""
             }
            },
            "type": "scatter3d"
           }
          ],
          "scattercarpet": [
           {
            "marker": {
             "colorbar": {
              "outlinewidth": 0,
              "ticks": ""
             }
            },
            "type": "scattercarpet"
           }
          ],
          "scattergeo": [
           {
            "marker": {
             "colorbar": {
              "outlinewidth": 0,
              "ticks": ""
             }
            },
            "type": "scattergeo"
           }
          ],
          "scattergl": [
           {
            "marker": {
             "colorbar": {
              "outlinewidth": 0,
              "ticks": ""
             }
            },
            "type": "scattergl"
           }
          ],
          "scattermapbox": [
           {
            "marker": {
             "colorbar": {
              "outlinewidth": 0,
              "ticks": ""
             }
            },
            "type": "scattermapbox"
           }
          ],
          "scatterpolar": [
           {
            "marker": {
             "colorbar": {
              "outlinewidth": 0,
              "ticks": ""
             }
            },
            "type": "scatterpolar"
           }
          ],
          "scatterpolargl": [
           {
            "marker": {
             "colorbar": {
              "outlinewidth": 0,
              "ticks": ""
             }
            },
            "type": "scatterpolargl"
           }
          ],
          "scatterternary": [
           {
            "marker": {
             "colorbar": {
              "outlinewidth": 0,
              "ticks": ""
             }
            },
            "type": "scatterternary"
           }
          ],
          "surface": [
           {
            "colorbar": {
             "outlinewidth": 0,
             "ticks": ""
            },
            "colorscale": [
             [
              0,
              "#0d0887"
             ],
             [
              0.1111111111111111,
              "#46039f"
             ],
             [
              0.2222222222222222,
              "#7201a8"
             ],
             [
              0.3333333333333333,
              "#9c179e"
             ],
             [
              0.4444444444444444,
              "#bd3786"
             ],
             [
              0.5555555555555556,
              "#d8576b"
             ],
             [
              0.6666666666666666,
              "#ed7953"
             ],
             [
              0.7777777777777778,
              "#fb9f3a"
             ],
             [
              0.8888888888888888,
              "#fdca26"
             ],
             [
              1,
              "#f0f921"
             ]
            ],
            "type": "surface"
           }
          ],
          "table": [
           {
            "cells": {
             "fill": {
              "color": "#EBF0F8"
             },
             "line": {
              "color": "white"
             }
            },
            "header": {
             "fill": {
              "color": "#C8D4E3"
             },
             "line": {
              "color": "white"
             }
            },
            "type": "table"
           }
          ]
         },
         "layout": {
          "annotationdefaults": {
           "arrowcolor": "#2a3f5f",
           "arrowhead": 0,
           "arrowwidth": 1
          },
          "autotypenumbers": "strict",
          "coloraxis": {
           "colorbar": {
            "outlinewidth": 0,
            "ticks": ""
           }
          },
          "colorscale": {
           "diverging": [
            [
             0,
             "#8e0152"
            ],
            [
             0.1,
             "#c51b7d"
            ],
            [
             0.2,
             "#de77ae"
            ],
            [
             0.3,
             "#f1b6da"
            ],
            [
             0.4,
             "#fde0ef"
            ],
            [
             0.5,
             "#f7f7f7"
            ],
            [
             0.6,
             "#e6f5d0"
            ],
            [
             0.7,
             "#b8e186"
            ],
            [
             0.8,
             "#7fbc41"
            ],
            [
             0.9,
             "#4d9221"
            ],
            [
             1,
             "#276419"
            ]
           ],
           "sequential": [
            [
             0,
             "#0d0887"
            ],
            [
             0.1111111111111111,
             "#46039f"
            ],
            [
             0.2222222222222222,
             "#7201a8"
            ],
            [
             0.3333333333333333,
             "#9c179e"
            ],
            [
             0.4444444444444444,
             "#bd3786"
            ],
            [
             0.5555555555555556,
             "#d8576b"
            ],
            [
             0.6666666666666666,
             "#ed7953"
            ],
            [
             0.7777777777777778,
             "#fb9f3a"
            ],
            [
             0.8888888888888888,
             "#fdca26"
            ],
            [
             1,
             "#f0f921"
            ]
           ],
           "sequentialminus": [
            [
             0,
             "#0d0887"
            ],
            [
             0.1111111111111111,
             "#46039f"
            ],
            [
             0.2222222222222222,
             "#7201a8"
            ],
            [
             0.3333333333333333,
             "#9c179e"
            ],
            [
             0.4444444444444444,
             "#bd3786"
            ],
            [
             0.5555555555555556,
             "#d8576b"
            ],
            [
             0.6666666666666666,
             "#ed7953"
            ],
            [
             0.7777777777777778,
             "#fb9f3a"
            ],
            [
             0.8888888888888888,
             "#fdca26"
            ],
            [
             1,
             "#f0f921"
            ]
           ]
          },
          "colorway": [
           "#636efa",
           "#EF553B",
           "#00cc96",
           "#ab63fa",
           "#FFA15A",
           "#19d3f3",
           "#FF6692",
           "#B6E880",
           "#FF97FF",
           "#FECB52"
          ],
          "font": {
           "color": "#2a3f5f"
          },
          "geo": {
           "bgcolor": "white",
           "lakecolor": "white",
           "landcolor": "#E5ECF6",
           "showlakes": true,
           "showland": true,
           "subunitcolor": "white"
          },
          "hoverlabel": {
           "align": "left"
          },
          "hovermode": "closest",
          "mapbox": {
           "style": "light"
          },
          "paper_bgcolor": "white",
          "plot_bgcolor": "#E5ECF6",
          "polar": {
           "angularaxis": {
            "gridcolor": "white",
            "linecolor": "white",
            "ticks": ""
           },
           "bgcolor": "#E5ECF6",
           "radialaxis": {
            "gridcolor": "white",
            "linecolor": "white",
            "ticks": ""
           }
          },
          "scene": {
           "xaxis": {
            "backgroundcolor": "#E5ECF6",
            "gridcolor": "white",
            "gridwidth": 2,
            "linecolor": "white",
            "showbackground": true,
            "ticks": "",
            "zerolinecolor": "white"
           },
           "yaxis": {
            "backgroundcolor": "#E5ECF6",
            "gridcolor": "white",
            "gridwidth": 2,
            "linecolor": "white",
            "showbackground": true,
            "ticks": "",
            "zerolinecolor": "white"
           },
           "zaxis": {
            "backgroundcolor": "#E5ECF6",
            "gridcolor": "white",
            "gridwidth": 2,
            "linecolor": "white",
            "showbackground": true,
            "ticks": "",
            "zerolinecolor": "white"
           }
          },
          "shapedefaults": {
           "line": {
            "color": "#2a3f5f"
           }
          },
          "ternary": {
           "aaxis": {
            "gridcolor": "white",
            "linecolor": "white",
            "ticks": ""
           },
           "baxis": {
            "gridcolor": "white",
            "linecolor": "white",
            "ticks": ""
           },
           "bgcolor": "#E5ECF6",
           "caxis": {
            "gridcolor": "white",
            "linecolor": "white",
            "ticks": ""
           }
          },
          "title": {
           "x": 0.05
          },
          "xaxis": {
           "automargin": true,
           "gridcolor": "white",
           "linecolor": "white",
           "ticks": "",
           "title": {
            "standoff": 15
           },
           "zerolinecolor": "white",
           "zerolinewidth": 2
          },
          "yaxis": {
           "automargin": true,
           "gridcolor": "white",
           "linecolor": "white",
           "ticks": "",
           "title": {
            "standoff": 15
           },
           "zerolinecolor": "white",
           "zerolinewidth": 2
          }
         }
        },
        "xaxis": {
         "anchor": "y",
         "domain": [
          0,
          0.425
         ]
        },
        "xaxis2": {
         "anchor": "y2",
         "domain": [
          0.575,
          1
         ]
        },
        "yaxis": {
         "anchor": "x",
         "domain": [
          0,
          1
         ]
        },
        "yaxis2": {
         "anchor": "x2",
         "domain": [
          0,
          1
         ]
        },
        "yaxis3": {
         "anchor": "x",
         "overlaying": "y",
         "range": [
          0,
          100
         ],
         "showgrid": false,
         "side": "right",
         "title": {
          "text": "%Churn Ratio"
         }
        }
       }
      }
     },
     "metadata": {},
     "output_type": "display_data"
    }
   ],
   "source": [
    "fig"
   ]
  },
  {
   "cell_type": "code",
   "execution_count": null,
   "metadata": {},
   "outputs": [],
   "source": [
    "def binary_ploting_distributions(df, cat_col):\n",
    "    from plotly import tools\n",
    "\n",
    "    fig = tools.make_subplots(rows=1,\n",
    "                              cols=2,\n",
    "                              print_grid=True,\n",
    "                              horizontal_spacing=0.15, \n",
    "                              subplot_titles=(\"Distribution of and % Churn\", \n",
    "                                              f'Mean Monthly Charges of {cat_col}') \n",
    "                             )\n",
    "\n",
    "    tmp_churn = df[df['Churn'] == 1]\n",
    "    tmp_no_churn = df[df['Churn'] == 0]\n",
    "    tmp_attr = round(tmp_churn[cat_col].value_counts().sort_index() / df_train[cat_col].value_counts().sort_index(),2)*100\n",
    "\n",
    "    trace1 = go.Bar(\n",
    "        x=tmp_churn[cat_col].value_counts().sort_index().index,\n",
    "        y=tmp_churn[cat_col].value_counts().sort_index().values,\n",
    "        name='Yes_Churn',opacity = 0.8, marker=dict(\n",
    "            color='seagreen',\n",
    "            line=dict(color='#000000',width=1)))\n",
    "\n",
    "    trace2 = go.Bar(\n",
    "        x=tmp_no_churn[cat_col].value_counts().sort_index().index,\n",
    "        y=tmp_no_churn[cat_col].value_counts().sort_index().values,\n",
    "        name='No_Churn', opacity = 0.8, \n",
    "        marker=dict(\n",
    "            color='indianred',\n",
    "            line=dict(color='#000000',\n",
    "                      width=1)\n",
    "        )\n",
    "    )\n",
    "\n",
    "    trace3 =  go.Scatter(   \n",
    "        x=tmp_attr.sort_index().index,\n",
    "        y=tmp_attr.sort_index().values,\n",
    "        yaxis = 'y2',\n",
    "        name='% Churn', opacity = 0.6, \n",
    "        marker=dict(\n",
    "            color='black',\n",
    "            line=dict(color='#000000',\n",
    "                      width=2 )\n",
    "        )\n",
    "    )\n",
    "\n",
    "    df_tmp = (df_train.groupby(['Churn', cat_col])['MonthlyCharges'].mean().reset_index())\n",
    "\n",
    "    tmp_churn = df_tmp[df_tmp['Churn'] == 1]\n",
    "    tmp_no_churn = df_tmp[df_tmp['Churn'] == 0]\n",
    "\n",
    "    df_tmp = (df_train.groupby(['Churn', cat_col])['MonthlyCharges'].mean()).unstack('Churn').reset_index()\n",
    "    df_tmp['diff_rate'] = round((df_tmp[1] / df_tmp[0]) - 1,2) * 100\n",
    "\n",
    "    trace4 = go.Bar(\n",
    "        x=tmp_churn[cat_col],\n",
    "        y=tmp_churn['MonthlyCharges'], showlegend=False,\n",
    "        name='Mean Charge Churn',opacity = 0.8, marker=dict(\n",
    "            color='seagreen',\n",
    "            line=dict(color='#000000',width=1)))\n",
    "\n",
    "    trace5 = go.Bar(\n",
    "        x=tmp_no_churn[cat_col],\n",
    "        y=tmp_no_churn['MonthlyCharges'],showlegend=False,\n",
    "        name='Mean Charge NoChurn', opacity = 0.8, \n",
    "        marker=dict(\n",
    "            color='indianred',\n",
    "            line=dict(color='#000000',\n",
    "                      width=1)\n",
    "        )\n",
    "    )\n",
    "\n",
    "    trace6 =  go.Scatter(   \n",
    "        x=df_tmp[cat_col],\n",
    "        y=df_tmp['diff_rate'],\n",
    "        yaxis = 'y2',\n",
    "        name='% Diff Churn', opacity = 0.6, \n",
    "        marker=dict(\n",
    "            color='black',\n",
    "            line=dict(color='#000000',\n",
    "                      width=5 )\n",
    "        )\n",
    "    )\n",
    "\n",
    "    fig.append_trace(trace1, 1, 1)\n",
    "    fig.append_trace(trace2, 1, 1) \n",
    "    fig.append_trace(trace3, 1, 1)\n",
    "    fig.append_trace(trace4, 1, 2)\n",
    "    fig.append_trace(trace5, 1, 2)\n",
    "    fig.append_trace(trace6, 1, 2) \n",
    "\n",
    "    fig['data'][2].update(yaxis='y3')\n",
    "    fig['data'][5].update(yaxis='y4')\n",
    "\n",
    "    fig['layout']['xaxis'].update(autorange=True,\n",
    "                                   tickfont=dict(size= 10), \n",
    "                                   title= f'{cat_col}', \n",
    "                                   type= 'category',\n",
    "                                  )\n",
    "    fig['layout']['yaxis'].update(title= 'Count')\n",
    "\n",
    "    fig['layout']['xaxis2'].update(autorange=True,\n",
    "                                   tickfont=dict(size= 10), \n",
    "                                   title= f'{cat_col}', \n",
    "                                   type= 'category',\n",
    "                                  )\n",
    "    fig['layout']['yaxis2'].update( title= 'Mean Monthly Charges' )\n",
    "\n",
    "    fig['layout']['yaxis3']=dict(range= [0, 100], #right y-axis in subplot (1,1)\n",
    "                              overlaying= 'y', \n",
    "                              anchor= 'x', \n",
    "                              side= 'right', \n",
    "                              showgrid= False, \n",
    "                              title= '%Churn Ratio'\n",
    "                             )\n",
    "\n",
    "    #Insert a new key, yaxis4, and the associated value:\n",
    "    fig['layout']['yaxis4']=dict(range= [-20, 100], #right y-axis in the subplot (1,2)\n",
    "                              overlaying= 'y2', \n",
    "                              anchor= 'x2', \n",
    "                              side= 'right', \n",
    "                              showgrid= False, \n",
    "                              title= 'Monhtly % Difference'\n",
    "                             )\n",
    "    fig['layout']['title'] = f\"{cat_col} Distributions\"\n",
    "    fig['layout']['height'] = 500\n",
    "    fig['layout']['width'] = 1000\n",
    "\n",
    "    iplot(fig)\n",
    "    \n",
    "def plot_dist_churn(df, col, binary=None):\n",
    "    tmp_churn = df[df[binary] == 1]\n",
    "    tmp_no_churn = df[df[binary] == 0]\n",
    "    tmp_attr = round(tmp_churn[col].value_counts().sort_index() / df[col].value_counts().sort_index(),2)*100\n",
    "    print(f'Distribution of {col}: ')\n",
    "    trace1 = go.Bar(\n",
    "        x=tmp_churn[col].value_counts().sort_index().index,\n",
    "        y=tmp_churn[col].value_counts().sort_index().values,\n",
    "        name='Yes_Churn',opacity = 0.8, marker=dict(\n",
    "            color='seagreen',\n",
    "            line=dict(color='#000000',width=1)))\n",
    "\n",
    "    trace2 = go.Bar(\n",
    "        x=tmp_no_churn[col].value_counts().sort_index().index,\n",
    "        y=tmp_no_churn[col].value_counts().sort_index().values,\n",
    "        name='No_Churn', opacity = 0.8, \n",
    "        marker=dict(\n",
    "            color='indianred',\n",
    "            line=dict(color='#000000',\n",
    "                      width=1)\n",
    "        )\n",
    "    )\n",
    "\n",
    "    trace3 =  go.Scatter(   \n",
    "        x=tmp_attr.sort_index().index,\n",
    "        y=tmp_attr.sort_index().values,\n",
    "        yaxis = 'y2',\n",
    "        name='% Churn', opacity = 0.6, \n",
    "        marker=dict(\n",
    "            color='black',\n",
    "            line=dict(color='#000000',\n",
    "                      width=2 )\n",
    "        )\n",
    "    )\n",
    "    \n",
    "    layout = dict(title =  f'Distribution of {str(col)} feature by Target - With Churn Rates',\n",
    "              xaxis=dict(), \n",
    "              yaxis=dict(title= 'Count'), \n",
    "              yaxis2=dict(range= [0, 100], \n",
    "                          overlaying= 'y', \n",
    "                          anchor= 'x', \n",
    "                          side= 'right',\n",
    "                          zeroline=False,\n",
    "                          showgrid= False, \n",
    "                          title= 'Percentual Churn Ratio'\n",
    "                         ))\n",
    "\n",
    "    fig = go.Figure(data=[trace1, trace2, trace3], layout=layout)\n",
    "    iplot(fig)\n",
    "    \n",
    "    \n",
    "def plot_distribution(df, var_select=None, bins=1.0): \n",
    "    # Calculate the correlation coefficient between the new variable and the target\n",
    "    tmp_churn = df[df['Churn'] == 1]\n",
    "    tmp_no_churn = df[df['Churn'] == 0]    \n",
    "    corr = df_train['Churn'].corr(df_train[var_select])\n",
    "    corr = np.round(corr,3)\n",
    "    tmp1 = tmp_churn[var_select].dropna()\n",
    "    tmp2 = tmp_no_churn[var_select].dropna()\n",
    "    hist_data = [tmp1, tmp2]\n",
    "    \n",
    "    group_labels = ['Yes_churn', 'No_churn']\n",
    "    colors = ['seagreen','indianred', ]\n",
    "\n",
    "    fig = ff.create_distplot(hist_data,\n",
    "                             group_labels,\n",
    "                             colors = colors, \n",
    "                             show_hist = True,\n",
    "                             curve_type='kde', \n",
    "                             bin_size = bins\n",
    "                            )\n",
    "    \n",
    "    fig['layout'].update(title = var_select+' '+'(corr target ='+ str(corr)+')')\n",
    "\n",
    "    iplot(fig, filename = 'Density plot')\n",
    "    \n",
    "def monthly_charges(df, col, binary=None):\n",
    "    #(df_train.groupby(['Churn', 'tenure'])['MonthlyCharges'].mean()).unstack('Churn').reset_index()\n",
    "    df_tmp = (df_train.groupby([binary, col])['MonthlyCharges'].mean().reset_index())\n",
    "    \n",
    "    tmp_churn = df_tmp[df_tmp['Churn'] == 1]\n",
    "    tmp_no_churn = df_tmp[df_tmp['Churn'] == 0]\n",
    "\n",
    "    df_tmp = (df_train.groupby([binary, col])['MonthlyCharges'].mean()).unstack('Churn').reset_index()\n",
    "    df_tmp['diff_rate'] = round((df_tmp[1] / df_tmp[0]) - 1,2) * 100\n",
    "    \n",
    "    trace1 = go.Bar(\n",
    "        x=tmp_churn[col],\n",
    "        y=tmp_churn['MonthlyCharges'],\n",
    "        name='Mean Charge\\nChurn',opacity = 0.8, marker=dict(\n",
    "            color='seagreen',\n",
    "            line=dict(color='#000000',width=1)))\n",
    "\n",
    "    trace2 = go.Bar(\n",
    "        x=tmp_no_churn[col],\n",
    "        y=tmp_no_churn['MonthlyCharges'],\n",
    "        name='Mean Charge No Churn', opacity = 0.8, \n",
    "        marker=dict(\n",
    "            color='indianred',\n",
    "            line=dict(color='#000000',\n",
    "                      width=1)\n",
    "        )\n",
    "    )\n",
    "    \n",
    "    trace3 =  go.Scatter(   \n",
    "        x=df_tmp[col],\n",
    "        y=df_tmp['diff_rate'],\n",
    "        yaxis = 'y2',\n",
    "        name='% Diff Churn', opacity = 0.6, \n",
    "        marker=dict(\n",
    "            color='black',\n",
    "            line=dict(color='#000000',\n",
    "                      width=5 )\n",
    "        )\n",
    "    )\n",
    "        \n",
    "    layout = dict(title =  f'Mean Monthly Charges of {str(col)} feature by Churn or Not Churn Customers - With Churn Ratio',\n",
    "              xaxis=dict(), \n",
    "              yaxis=dict(title= 'Mean Monthly Charges'), \n",
    "              yaxis2=dict(range= [0, 100], \n",
    "                          overlaying= 'y', \n",
    "                          anchor= 'x', \n",
    "                          side= 'right',\n",
    "                          zeroline=False,\n",
    "                          showgrid= False, \n",
    "                          title= '% diff Monthly Charges Mean'\n",
    "                         ))\n",
    "\n",
    "    fig = go.Figure(data=[trace1, trace2, trace3], layout=layout)\n",
    "    iplot(fig)"
   ]
  },
  {
   "cell_type": "code",
   "execution_count": 24,
   "metadata": {},
   "outputs": [
    {
     "name": "stdout",
     "output_type": "stream",
     "text": [
      "   CIBIL  AGE GENDER  SALARY APPROVE_LOAN\n",
      "0    480   28      M  610000          Yes\n",
      "1    480   42      M  140000           No\n",
      "2    480   29      F  420000           No\n",
      "3    490   30      M  420000           No\n",
      "4    500   27      M  420000           No\n",
      "APPROVE_LOAN  No  Yes\n",
      "GENDER               \n",
      "F              2    5\n",
      "M              3   10\n",
      "The P-Value of the ChiSq Test is: 1.0\n"
     ]
    }
   ],
   "source": [
    "\n",
    "CrosstabResult=pd.crosstab(index=LoanData['GENDER'],columns=LoanData['APPROVE_LOAN'])\n",
    "print(CrosstabResult)\n",
    " \n",
    "# importing the required function\n",
    " \n",
    "# Performing Chi-sq test\n",
    "ChiSqResult = chi2_contingency(CrosstabResult)\n",
    " \n",
    "# P-Value is the Probability of H0 being True\n",
    "# If P-Value&gt;0.05 then only we Accept the assumption(H0)\n",
    " \n",
    "print('The P-Value of the ChiSq Test is:', ChiSqResult[1])"
   ]
  },
  {
   "cell_type": "code",
   "execution_count": 187,
   "metadata": {},
   "outputs": [
    {
     "data": {
      "text/html": [
       "<div>\n",
       "<style scoped>\n",
       "    .dataframe tbody tr th:only-of-type {\n",
       "        vertical-align: middle;\n",
       "    }\n",
       "\n",
       "    .dataframe tbody tr th {\n",
       "        vertical-align: top;\n",
       "    }\n",
       "\n",
       "    .dataframe thead th {\n",
       "        text-align: right;\n",
       "    }\n",
       "</style>\n",
       "<table border=\"1\" class=\"dataframe\">\n",
       "  <thead>\n",
       "    <tr style=\"text-align: right;\">\n",
       "      <th></th>\n",
       "      <th>ch_score</th>\n",
       "    </tr>\n",
       "    <tr>\n",
       "      <th>col</th>\n",
       "      <th></th>\n",
       "    </tr>\n",
       "  </thead>\n",
       "  <tbody>\n",
       "    <tr>\n",
       "      <th>Partner</th>\n",
       "      <td>0.00000</td>\n",
       "    </tr>\n",
       "    <tr>\n",
       "      <th>Dependents</th>\n",
       "      <td>0.00000</td>\n",
       "    </tr>\n",
       "    <tr>\n",
       "      <th>InternetService</th>\n",
       "      <td>0.00000</td>\n",
       "    </tr>\n",
       "    <tr>\n",
       "      <th>OnlineSecurity</th>\n",
       "      <td>0.00000</td>\n",
       "    </tr>\n",
       "    <tr>\n",
       "      <th>OnlineBackup</th>\n",
       "      <td>0.00000</td>\n",
       "    </tr>\n",
       "    <tr>\n",
       "      <th>DeviceProtection</th>\n",
       "      <td>0.00000</td>\n",
       "    </tr>\n",
       "    <tr>\n",
       "      <th>TechSupport</th>\n",
       "      <td>0.00000</td>\n",
       "    </tr>\n",
       "    <tr>\n",
       "      <th>StreamingTV</th>\n",
       "      <td>0.00000</td>\n",
       "    </tr>\n",
       "    <tr>\n",
       "      <th>StreamingMovies</th>\n",
       "      <td>0.00000</td>\n",
       "    </tr>\n",
       "    <tr>\n",
       "      <th>Contract</th>\n",
       "      <td>0.00000</td>\n",
       "    </tr>\n",
       "    <tr>\n",
       "      <th>PaperlessBilling</th>\n",
       "      <td>0.00000</td>\n",
       "    </tr>\n",
       "    <tr>\n",
       "      <th>PaymentMethod</th>\n",
       "      <td>0.00000</td>\n",
       "    </tr>\n",
       "    <tr>\n",
       "      <th>MultipleLines</th>\n",
       "      <td>0.00346</td>\n",
       "    </tr>\n",
       "    <tr>\n",
       "      <th>PhoneService</th>\n",
       "      <td>0.33878</td>\n",
       "    </tr>\n",
       "    <tr>\n",
       "      <th>Gender</th>\n",
       "      <td>0.48658</td>\n",
       "    </tr>\n",
       "  </tbody>\n",
       "</table>\n",
       "</div>"
      ],
      "text/plain": [
       "                  ch_score\n",
       "col                       \n",
       "Partner            0.00000\n",
       "Dependents         0.00000\n",
       "InternetService    0.00000\n",
       "OnlineSecurity     0.00000\n",
       "OnlineBackup       0.00000\n",
       "DeviceProtection   0.00000\n",
       "TechSupport        0.00000\n",
       "StreamingTV        0.00000\n",
       "StreamingMovies    0.00000\n",
       "Contract           0.00000\n",
       "PaperlessBilling   0.00000\n",
       "PaymentMethod      0.00000\n",
       "MultipleLines      0.00346\n",
       "PhoneService       0.33878\n",
       "Gender             0.48658"
      ]
     },
     "execution_count": 187,
     "metadata": {},
     "output_type": "execute_result"
    }
   ],
   "source": [
    "#Checking Correlation Of Categorical variables with target column\n",
    "ch_scores  = []\n",
    "for col in cat_cols[:-1]:\n",
    "    crstb = pd.crosstab(index = df[col], columns=df['Churn'] )\n",
    "    hyp = chi2_contingency(crstb)\n",
    "    chiscore= np.round(hyp[1], 5)\n",
    "    ch_scores.append(chiscore)\n",
    "pd.DataFrame(zip(cat_cols[:-1], ch_scores), columns=['col', 'ch_score']).set_index('col').sort_values(by='ch_score')\n"
   ]
  },
  {
   "cell_type": "code",
   "execution_count": 84,
   "metadata": {},
   "outputs": [
    {
     "name": "stdout",
     "output_type": "stream",
     "text": [
      "Gender -0.008612095078997883\n",
      "Partner 0.15044754495917667\n",
      "Dependents -0.16422140157972476\n",
      "PhoneService 0.01194198002900294\n",
      "MultipleLines 0.0363104366547957\n",
      "InternetService -0.04729138768314237\n",
      "OnlineSecurity -0.33281919168942703\n",
      "OnlineBackup -0.07420530149434537\n",
      "DeviceProtection -0.2814648246574705\n",
      "TechSupport -0.32985226446993626\n",
      "StreamingTV -0.20574215693991318\n",
      "StreamingMovies -0.20725609227308128\n",
      "Contract -0.396712629209844\n",
      "PaperlessBilling -0.19182533166646865\n",
      "PaymentMethod -0.2628182020893576\n"
     ]
    }
   ],
   "source": [
    "for col in cat_cols[:-1]:\n",
    "    l, c = factorize(df[col])\n",
    "    res = pd.Series(l)\n",
    "    cor = df['Churn_No'].corr(res)\n",
    "    print(col, cor)"
   ]
  },
  {
   "cell_type": "code",
   "execution_count": 188,
   "metadata": {},
   "outputs": [],
   "source": [
    "from feature_engine.encoding import OrdinalEncoder\n",
    "oe = OrdinalEncoder(encoding_method='arbitrary')\n",
    "encoded_df = oe.fit_transform(df[cat_cols[:-1]])"
   ]
  },
  {
   "cell_type": "code",
   "execution_count": 194,
   "metadata": {},
   "outputs": [
    {
     "data": {
      "text/plain": [
       "Contract           -0.396713\n",
       "OnlineSecurity     -0.332819\n",
       "TechSupport        -0.329852\n",
       "DeviceProtection   -0.281465\n",
       "PaymentMethod      -0.262818\n",
       "StreamingMovies    -0.207256\n",
       "StreamingTV        -0.205742\n",
       "PaperlessBilling   -0.191825\n",
       "Dependents         -0.164221\n",
       "OnlineBackup       -0.074205\n",
       "InternetService    -0.047291\n",
       "Gender             -0.008612\n",
       "PhoneService        0.011942\n",
       "MultipleLines       0.036310\n",
       "Partner             0.150448\n",
       "dtype: float64"
      ]
     },
     "execution_count": 194,
     "metadata": {},
     "output_type": "execute_result"
    }
   ],
   "source": [
    "encoded_df.corrwith(df['Churn'].replace({'Yes':1, 'No':0})).sort_values().T"
   ]
  },
  {
   "cell_type": "code",
   "execution_count": 195,
   "metadata": {},
   "outputs": [
    {
     "data": {
      "text/html": [
       "<div>\n",
       "<style scoped>\n",
       "    .dataframe tbody tr th:only-of-type {\n",
       "        vertical-align: middle;\n",
       "    }\n",
       "\n",
       "    .dataframe tbody tr th {\n",
       "        vertical-align: top;\n",
       "    }\n",
       "\n",
       "    .dataframe thead th {\n",
       "        text-align: right;\n",
       "    }\n",
       "</style>\n",
       "<table border=\"1\" class=\"dataframe\">\n",
       "  <thead>\n",
       "    <tr style=\"text-align: right;\">\n",
       "      <th>col</th>\n",
       "      <th>Partner</th>\n",
       "      <th>Dependents</th>\n",
       "      <th>InternetService</th>\n",
       "      <th>OnlineSecurity</th>\n",
       "      <th>OnlineBackup</th>\n",
       "      <th>DeviceProtection</th>\n",
       "      <th>TechSupport</th>\n",
       "      <th>StreamingTV</th>\n",
       "      <th>StreamingMovies</th>\n",
       "      <th>Contract</th>\n",
       "      <th>PaperlessBilling</th>\n",
       "      <th>PaymentMethod</th>\n",
       "      <th>MultipleLines</th>\n",
       "      <th>PhoneService</th>\n",
       "      <th>Gender</th>\n",
       "    </tr>\n",
       "  </thead>\n",
       "  <tbody>\n",
       "    <tr>\n",
       "      <th>ch_score</th>\n",
       "      <td>0.0</td>\n",
       "      <td>0.0</td>\n",
       "      <td>0.0</td>\n",
       "      <td>0.0</td>\n",
       "      <td>0.0</td>\n",
       "      <td>0.0</td>\n",
       "      <td>0.0</td>\n",
       "      <td>0.0</td>\n",
       "      <td>0.0</td>\n",
       "      <td>0.0</td>\n",
       "      <td>0.0</td>\n",
       "      <td>0.0</td>\n",
       "      <td>0.00346</td>\n",
       "      <td>0.33878</td>\n",
       "      <td>0.48658</td>\n",
       "    </tr>\n",
       "  </tbody>\n",
       "</table>\n",
       "</div>"
      ],
      "text/plain": [
       "col       Partner  Dependents  InternetService  OnlineSecurity  OnlineBackup  \\\n",
       "ch_score      0.0         0.0              0.0             0.0           0.0   \n",
       "\n",
       "col       DeviceProtection  TechSupport  StreamingTV  StreamingMovies  \\\n",
       "ch_score               0.0          0.0          0.0              0.0   \n",
       "\n",
       "col       Contract  PaperlessBilling  PaymentMethod  MultipleLines  \\\n",
       "ch_score       0.0               0.0            0.0        0.00346   \n",
       "\n",
       "col       PhoneService   Gender  \n",
       "ch_score       0.33878  0.48658  "
      ]
     },
     "execution_count": 195,
     "metadata": {},
     "output_type": "execute_result"
    }
   ],
   "source": [
    "pd.DataFrame(zip(cat_cols[:-1], ch_scores), columns=['col', 'ch_score']).set_index('col').sort_values(by='ch_score').T\n"
   ]
  },
  {
   "cell_type": "code",
   "execution_count": 130,
   "metadata": {},
   "outputs": [],
   "source": [
    "churn = df[df['Churn'] ==1]\n",
    "nchurn = df[df['Churn'] == 0]"
   ]
  },
  {
   "cell_type": "code",
   "execution_count": 134,
   "metadata": {},
   "outputs": [
    {
     "data": {
      "text/plain": [
       "((476, 20), (1393, 20))"
      ]
     },
     "execution_count": 134,
     "metadata": {},
     "output_type": "execute_result"
    }
   ],
   "source": [
    "churn[churn['SeniorCitizen'] == 1].shape, churn[churn['SeniorCitizen'] == 0].shape"
   ]
  },
  {
   "cell_type": "code",
   "execution_count": 137,
   "metadata": {},
   "outputs": [],
   "source": [
    "gr = df.groupby([\"SeniorCitizen\", 'Churn'])['Churn'].agg('count')"
   ]
  },
  {
   "cell_type": "code",
   "execution_count": 149,
   "metadata": {},
   "outputs": [
    {
     "data": {
      "text/plain": [
       "SeniorCitizen  Churn\n",
       "0              0        4497\n",
       "               1        1393\n",
       "1              0         666\n",
       "               1         476\n",
       "Name: Churn, dtype: int64"
      ]
     },
     "execution_count": 149,
     "metadata": {},
     "output_type": "execute_result"
    }
   ],
   "source": [
    "gr"
   ]
  },
  {
   "cell_type": "code",
   "execution_count": 147,
   "metadata": {},
   "outputs": [
    {
     "data": {
      "text/plain": [
       "5890"
      ]
     },
     "execution_count": 147,
     "metadata": {},
     "output_type": "execute_result"
    }
   ],
   "source": [
    "(4497+1393)"
   ]
  },
  {
   "cell_type": "code",
   "execution_count": 161,
   "metadata": {},
   "outputs": [],
   "source": [
    "cat_col= \"SeniorCitizen\""
   ]
  },
  {
   "cell_type": "code",
   "execution_count": 162,
   "metadata": {},
   "outputs": [],
   "source": [
    "df[\"Churn\"] = df['Churn'].replace({\"Yes\":1, \"No\":0})\n",
    "tmp_churn = df[df['Churn'] == 1]\n",
    "tmp_no_churn = df[df['Churn'] == 0]\n",
    "# calculate churn / total count of categorical variables \n",
    "# tmp_attr = round(tmp_churn[cat_col].value_counts().sort_index() / df[cat_col].value_counts().sort_index(),2)*100"
   ]
  },
  {
   "cell_type": "code",
   "execution_count": 169,
   "metadata": {},
   "outputs": [
    {
     "data": {
      "text/plain": [
       "0    1393\n",
       "1     476\n",
       "Name: SeniorCitizen, dtype: int64"
      ]
     },
     "execution_count": 169,
     "metadata": {},
     "output_type": "execute_result"
    }
   ],
   "source": [
    "tmp_churn[cat_col].value_counts().sort_index()"
   ]
  },
  {
   "cell_type": "code",
   "execution_count": 170,
   "metadata": {},
   "outputs": [
    {
     "data": {
      "text/plain": [
       "0    5890\n",
       "1    1142\n",
       "Name: SeniorCitizen, dtype: int64"
      ]
     },
     "execution_count": 170,
     "metadata": {},
     "output_type": "execute_result"
    }
   ],
   "source": [
    "df[cat_col].value_counts().sort_index()"
   ]
  },
  {
   "cell_type": "code",
   "execution_count": 171,
   "metadata": {},
   "outputs": [
    {
     "data": {
      "text/plain": [
       "0.2365025466893039"
      ]
     },
     "execution_count": 171,
     "metadata": {},
     "output_type": "execute_result"
    }
   ],
   "source": [
    "1393/5890"
   ]
  },
  {
   "cell_type": "code",
   "execution_count": 172,
   "metadata": {},
   "outputs": [
    {
     "data": {
      "text/plain": [
       "0.3053388374251911"
      ]
     },
     "execution_count": 172,
     "metadata": {},
     "output_type": "execute_result"
    }
   ],
   "source": [
    "139131/455661"
   ]
  },
  {
   "cell_type": "code",
   "execution_count": 173,
   "metadata": {},
   "outputs": [
    {
     "name": "stdout",
     "output_type": "stream",
     "text": [
      "<class 'pandas.core.frame.DataFrame'>\n",
      "Int64Index: 7032 entries, 0 to 7042\n",
      "Data columns (total 20 columns):\n",
      " #   Column            Non-Null Count  Dtype  \n",
      "---  ------            --------------  -----  \n",
      " 0   Gender            7032 non-null   object \n",
      " 1   SeniorCitizen     7032 non-null   int64  \n",
      " 2   Partner           7032 non-null   object \n",
      " 3   Dependents        7032 non-null   object \n",
      " 4   Tenure            7032 non-null   int64  \n",
      " 5   PhoneService      7032 non-null   object \n",
      " 6   MultipleLines     7032 non-null   object \n",
      " 7   InternetService   7032 non-null   object \n",
      " 8   OnlineSecurity    7032 non-null   object \n",
      " 9   OnlineBackup      7032 non-null   object \n",
      " 10  DeviceProtection  7032 non-null   object \n",
      " 11  TechSupport       7032 non-null   object \n",
      " 12  StreamingTV       7032 non-null   object \n",
      " 13  StreamingMovies   7032 non-null   object \n",
      " 14  Contract          7032 non-null   object \n",
      " 15  PaperlessBilling  7032 non-null   object \n",
      " 16  PaymentMethod     7032 non-null   object \n",
      " 17  MonthlyCharges    7032 non-null   float64\n",
      " 18  TotalCharges      7032 non-null   float64\n",
      " 19  Churn             7032 non-null   int64  \n",
      "dtypes: float64(2), int64(3), object(15)\n",
      "memory usage: 1.1+ MB\n"
     ]
    }
   ],
   "source": [
    "df.info()"
   ]
  },
  {
   "cell_type": "code",
   "execution_count": 174,
   "metadata": {},
   "outputs": [],
   "source": [
    "df_train = df.copy()"
   ]
  },
  {
   "cell_type": "code",
   "execution_count": 175,
   "metadata": {},
   "outputs": [],
   "source": [
    "df_train['internet']= np.where(df_train.InternetService != 'No', 'Yes', 'No')\n",
    "\n",
    "df_train['num_services'] = (df_train[['PhoneService', 'OnlineSecurity',\n",
    "                                      'OnlineBackup', 'DeviceProtection', \n",
    "                                      'TechSupport', 'StreamingTV', \n",
    "                                      'StreamingMovies', 'internet']] == 'Yes').sum(axis=1)\n"
   ]
  },
  {
   "cell_type": "code",
   "execution_count": 177,
   "metadata": {},
   "outputs": [
    {
     "data": {
      "text/plain": [
       "Fiber Optic    3096\n",
       "Dsl            2416\n",
       "No             1520\n",
       "Name: InternetService, dtype: int64"
      ]
     },
     "execution_count": 177,
     "metadata": {},
     "output_type": "execute_result"
    }
   ],
   "source": [
    "df_train['InternetService'].value_counts()"
   ]
  },
  {
   "cell_type": "code",
   "execution_count": 182,
   "metadata": {},
   "outputs": [
    {
     "name": "stdout",
     "output_type": "stream",
     "text": [
      "<class 'pandas.core.frame.DataFrame'>\n",
      "Int64Index: 7032 entries, 0 to 7042\n",
      "Data columns (total 20 columns):\n",
      " #   Column            Non-Null Count  Dtype  \n",
      "---  ------            --------------  -----  \n",
      " 0   Gender            7032 non-null   object \n",
      " 1   SeniorCitizen     7032 non-null   int64  \n",
      " 2   Partner           7032 non-null   object \n",
      " 3   Dependents        7032 non-null   object \n",
      " 4   Tenure            7032 non-null   int64  \n",
      " 5   PhoneService      7032 non-null   object \n",
      " 6   MultipleLines     7032 non-null   object \n",
      " 7   InternetService   7032 non-null   object \n",
      " 8   OnlineSecurity    7032 non-null   object \n",
      " 9   OnlineBackup      7032 non-null   object \n",
      " 10  DeviceProtection  7032 non-null   object \n",
      " 11  TechSupport       7032 non-null   object \n",
      " 12  StreamingTV       7032 non-null   object \n",
      " 13  StreamingMovies   7032 non-null   object \n",
      " 14  Contract          7032 non-null   object \n",
      " 15  PaperlessBilling  7032 non-null   object \n",
      " 16  PaymentMethod     7032 non-null   object \n",
      " 17  MonthlyCharges    7032 non-null   float64\n",
      " 18  TotalCharges      7032 non-null   float64\n",
      " 19  Churn             7032 non-null   int64  \n",
      "dtypes: float64(2), int64(3), object(15)\n",
      "memory usage: 1.1+ MB\n"
     ]
    }
   ],
   "source": [
    "df.info()"
   ]
  },
  {
   "cell_type": "code",
   "execution_count": null,
   "metadata": {},
   "outputs": [],
   "source": [
    "color_op = ['#5527A0', '#BB93D7', '#834CF7', '#6C941E', '#93EAEA', '#7425FF', '#F2098A', '#7E87AC', \n",
    "            '#EBE36F', '#7FD394', '#49C35D', '#3058EE', '#44FDCF', '#A38F85', '#C4CEE0', '#B63A05', \n",
    "            '#4856BF', '#F0DB1B', '#9FDBD9', '#B123AC']\n",
    "\n",
    "def plot_pie(dataframe, df_cat, df_value, title, limit=15):\n",
    "\n",
    "    df = dataframe.copy()\n",
    "    tmp_churn = df[df['Churn'] == 1].groupby(df_cat)[df_value].sum().nlargest(limit).to_frame().reset_index()\n",
    "    tmp_no_churn = df[df['Churn'] == 0].groupby(df_cat)[df_value].sum().nlargest(limit).to_frame().reset_index()\n",
    "\n",
    "    trace1 = go.Pie(labels=tmp_no_churn[df_cat], \n",
    "                    values=tmp_no_churn[df_value], name= \"No-Churn\", hole= .5, \n",
    "                    hoverinfo=\"label+percent+name+value\", showlegend=True,\n",
    "                    domain= {'x': [0, .48]})\n",
    "\n",
    "    trace2 = go.Pie(labels=tmp_churn[df_cat], \n",
    "                    values=tmp_churn[df_value], name=\"Churn\", hole= .5, \n",
    "                    hoverinfo=\"label+percent+name+value\", showlegend=False, \n",
    "                    domain= {'x': [.52, 1]})\n",
    "\n",
    "    layout = dict(title= title, height=450, font=dict(size=15),\n",
    "                  annotations = [\n",
    "                      dict(\n",
    "                          x=.20, y=.5,\n",
    "                          text='No Churn', \n",
    "                          showarrow=False,\n",
    "                          font=dict(size=20)\n",
    "                      ),\n",
    "                      dict(\n",
    "                          x=.80, y=.5,\n",
    "                          text='Churn', \n",
    "                          showarrow=False,\n",
    "                          font=dict(size=20)\n",
    "                      )\n",
    "        ])\n",
    "\n",
    "    fig = dict(data=[trace1, trace2], layout=layout)\n",
    "    iplot(fig)"
   ]
  },
  {
   "cell_type": "code",
   "execution_count": 33,
   "metadata": {},
   "outputs": [
    {
     "data": {
      "text/plain": [
       "Index(['Gender', 'Partner', 'Dependents', 'PhoneService', 'MultipleLines',\n",
       "       'InternetService', 'OnlineSecurity', 'OnlineBackup', 'DeviceProtection',\n",
       "       'TechSupport', 'StreamingTV', 'StreamingMovies', 'Contract',\n",
       "       'PaperlessBilling', 'PaymentMethod'],\n",
       "      dtype='object')"
      ]
     },
     "execution_count": 33,
     "metadata": {},
     "output_type": "execute_result"
    }
   ],
   "source": [
    "df.select_dtypes('object').columns"
   ]
  },
  {
   "cell_type": "code",
   "execution_count": 37,
   "metadata": {},
   "outputs": [
    {
     "data": {
      "text/plain": [
       "Electronic Check             2365\n",
       "Mailed Check                 1604\n",
       "Bank Transfer (Automatic)    1542\n",
       "Credit Card (Automatic)      1521\n",
       "Name: PaymentMethod, dtype: int64"
      ]
     },
     "execution_count": 37,
     "metadata": {},
     "output_type": "execute_result"
    }
   ],
   "source": [
    "df['PaymentMethod'].value_counts()"
   ]
  },
  {
   "cell_type": "code",
   "execution_count": null,
   "metadata": {},
   "outputs": [],
   "source": []
  }
 ],
 "metadata": {
  "kernelspec": {
   "display_name": "Python 3.8.10 ('stream')",
   "language": "python",
   "name": "python3"
  },
  "language_info": {
   "codemirror_mode": {
    "name": "ipython",
    "version": 3
   },
   "file_extension": ".py",
   "mimetype": "text/x-python",
   "name": "python",
   "nbconvert_exporter": "python",
   "pygments_lexer": "ipython3",
   "version": "3.8.10"
  },
  "orig_nbformat": 4,
  "vscode": {
   "interpreter": {
    "hash": "b89f69c986a8e09a202a7a53ddb3dbaae0942aea53850302f1bee77aaaeeb849"
   }
  }
 },
 "nbformat": 4,
 "nbformat_minor": 2
}
